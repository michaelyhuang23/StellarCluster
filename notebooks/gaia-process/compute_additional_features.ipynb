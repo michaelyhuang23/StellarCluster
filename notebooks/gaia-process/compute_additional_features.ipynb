{
 "cells": [
  {
   "cell_type": "code",
   "execution_count": 1,
   "id": "af554d88",
   "metadata": {},
   "outputs": [],
   "source": [
    "import pandas as pd\n",
    "import numpy as np\n",
    "import os\n",
    "import json"
   ]
  },
  {
   "cell_type": "code",
   "execution_count": 2,
   "id": "6a6a86ee",
   "metadata": {},
   "outputs": [
    {
     "name": "stdout",
     "output_type": "stream",
     "text": [
      "73910\n"
     ]
    }
   ],
   "source": [
    "path = '../../data/gaia/raw/common_kinematics.h5'\n",
    "df = pd.read_hdf(path, key='star')\n",
    "\n",
    "df = df.loc[(df['XGC']+8200)**2 + df['YGC']**2 + df['ZGC']**2 < 10000**2]\n",
    "df = df.loc[df['zmax']>=4000]\n",
    "print(len(df))"
   ]
  },
  {
   "cell_type": "code",
   "execution_count": 3,
   "id": "51a149cf",
   "metadata": {},
   "outputs": [],
   "source": [
    "def compute_extra(df):\n",
    "    df['RGC'] = (df['XGC']**2 + df['YGC']**2)**0.5\n",
    "    df['Vtot'] = (df['U']**2 + df['V']**2 + df['W']**2)**0.5\n",
    "    df['PhiGC'] = np.arctan2(df['YGC'], df['XGC'])\n",
    "    return df"
   ]
  },
  {
   "cell_type": "code",
   "execution_count": 4,
   "id": "93e9ea8b",
   "metadata": {},
   "outputs": [],
   "source": [
    "df = compute_extra(df)"
   ]
  },
  {
   "cell_type": "code",
   "execution_count": 5,
   "id": "394d0ff9",
   "metadata": {},
   "outputs": [
    {
     "name": "stdout",
     "output_type": "stream",
     "text": [
      "73910\n"
     ]
    }
   ],
   "source": [
    "output_path = '../../data/gaia/raw/common_kinematics_10kpc.h5'\n",
    "print(len(df))\n",
    "df.to_hdf(output_path, key='star')"
   ]
  },
  {
   "cell_type": "code",
   "execution_count": 6,
   "id": "68aa9ee9",
   "metadata": {},
   "outputs": [],
   "source": [
    "df_norm = {'mean':{}, 'std':{}}\n",
    "for column in df.columns:\n",
    "    df_norm['std'][column] = float(np.std(df[column]))\n",
    "    df_norm['mean'][column] = float(np.mean(df[column]))\n",
    "with open('../../data/gaia/raw/common_kinematics_10kpc_norm.json', 'w') as f:\n",
    "    json.dump(df_norm, f)"
   ]
  },
  {
   "cell_type": "code",
   "execution_count": null,
   "id": "a09f52bd",
   "metadata": {},
   "outputs": [],
   "source": []
  }
 ],
 "metadata": {
  "kernelspec": {
   "display_name": "Python 3 (ipykernel)",
   "language": "python",
   "name": "python3"
  },
  "language_info": {
   "codemirror_mode": {
    "name": "ipython",
    "version": 3
   },
   "file_extension": ".py",
   "mimetype": "text/x-python",
   "name": "python",
   "nbconvert_exporter": "python",
   "pygments_lexer": "ipython3",
   "version": "3.9.6"
  }
 },
 "nbformat": 4,
 "nbformat_minor": 5
}
