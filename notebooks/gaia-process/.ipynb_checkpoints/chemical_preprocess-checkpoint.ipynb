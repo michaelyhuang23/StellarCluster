{
 "cells": [
  {
   "cell_type": "code",
   "execution_count": 3,
   "metadata": {},
   "outputs": [],
   "source": [
    "import sys\n",
    "import pandas as pd\n",
    "import seaborn as sns\n",
    "import numpy as np"
   ]
  },
  {
   "cell_type": "markdown",
   "metadata": {},
   "source": [
    "### Cleaning the spectro data"
   ]
  },
  {
   "cell_type": "code",
   "execution_count": 2,
   "metadata": {},
   "outputs": [],
   "source": [
    "spec_df = pd.read_csv('./spec_logg_mh_alphafe.csv')"
   ]
  },
  {
   "cell_type": "code",
   "execution_count": 3,
   "metadata": {},
   "outputs": [
    {
     "data": {
      "text/html": [
       "<div>\n",
       "<style scoped>\n",
       "    .dataframe tbody tr th:only-of-type {\n",
       "        vertical-align: middle;\n",
       "    }\n",
       "\n",
       "    .dataframe tbody tr th {\n",
       "        vertical-align: top;\n",
       "    }\n",
       "\n",
       "    .dataframe thead th {\n",
       "        text-align: right;\n",
       "    }\n",
       "</style>\n",
       "<table border=\"1\" class=\"dataframe\">\n",
       "  <thead>\n",
       "    <tr style=\"text-align: right;\">\n",
       "      <th></th>\n",
       "      <th>Unnamed: 0.2</th>\n",
       "      <th>Unnamed: 0</th>\n",
       "      <th>Unnamed: 0.1</th>\n",
       "      <th>source_id</th>\n",
       "      <th>teff_gspspec</th>\n",
       "      <th>teff_gspspec_lower</th>\n",
       "      <th>teff_gspspec_upper</th>\n",
       "      <th>logg_gspspec</th>\n",
       "      <th>logg_gspspec_lower</th>\n",
       "      <th>logg_gspspec_upper</th>\n",
       "      <th>...</th>\n",
       "      <th>mh_gspspec_upper</th>\n",
       "      <th>alphafe_gspspec</th>\n",
       "      <th>alphafe_gspspec_lower</th>\n",
       "      <th>alphafe_gspspec_upper</th>\n",
       "      <th>mgfe_gspspec</th>\n",
       "      <th>mgfe_gspspec_lower</th>\n",
       "      <th>mgfe_gspspec_upper</th>\n",
       "      <th>fem_gspspec</th>\n",
       "      <th>fem_gspspec_lower</th>\n",
       "      <th>fem_gspspec_upper</th>\n",
       "    </tr>\n",
       "  </thead>\n",
       "  <tbody>\n",
       "    <tr>\n",
       "      <th>0</th>\n",
       "      <td>0</td>\n",
       "      <td>0</td>\n",
       "      <td>47</td>\n",
       "      <td>5917085665270502784</td>\n",
       "      <td>4584.0</td>\n",
       "      <td>4550.0</td>\n",
       "      <td>4608.0</td>\n",
       "      <td>1.68</td>\n",
       "      <td>1.60</td>\n",
       "      <td>1.77</td>\n",
       "      <td>...</td>\n",
       "      <td>-0.16</td>\n",
       "      <td>-0.04</td>\n",
       "      <td>-0.06</td>\n",
       "      <td>-0.02</td>\n",
       "      <td>NaN</td>\n",
       "      <td>NaN</td>\n",
       "      <td>NaN</td>\n",
       "      <td>NaN</td>\n",
       "      <td>NaN</td>\n",
       "      <td>NaN</td>\n",
       "    </tr>\n",
       "    <tr>\n",
       "      <th>1</th>\n",
       "      <td>1</td>\n",
       "      <td>1</td>\n",
       "      <td>119</td>\n",
       "      <td>5817805988703430528</td>\n",
       "      <td>6019.0</td>\n",
       "      <td>5850.0</td>\n",
       "      <td>6216.0</td>\n",
       "      <td>4.53</td>\n",
       "      <td>4.26</td>\n",
       "      <td>4.85</td>\n",
       "      <td>...</td>\n",
       "      <td>0.03</td>\n",
       "      <td>0.04</td>\n",
       "      <td>-0.04</td>\n",
       "      <td>0.13</td>\n",
       "      <td>NaN</td>\n",
       "      <td>NaN</td>\n",
       "      <td>NaN</td>\n",
       "      <td>NaN</td>\n",
       "      <td>NaN</td>\n",
       "      <td>NaN</td>\n",
       "    </tr>\n",
       "    <tr>\n",
       "      <th>2</th>\n",
       "      <td>2</td>\n",
       "      <td>2</td>\n",
       "      <td>203</td>\n",
       "      <td>5332898885277010816</td>\n",
       "      <td>6705.0</td>\n",
       "      <td>6603.0</td>\n",
       "      <td>6895.0</td>\n",
       "      <td>3.22</td>\n",
       "      <td>3.14</td>\n",
       "      <td>3.33</td>\n",
       "      <td>...</td>\n",
       "      <td>-0.28</td>\n",
       "      <td>0.60</td>\n",
       "      <td>0.55</td>\n",
       "      <td>0.61</td>\n",
       "      <td>NaN</td>\n",
       "      <td>NaN</td>\n",
       "      <td>NaN</td>\n",
       "      <td>NaN</td>\n",
       "      <td>NaN</td>\n",
       "      <td>NaN</td>\n",
       "    </tr>\n",
       "    <tr>\n",
       "      <th>3</th>\n",
       "      <td>4</td>\n",
       "      <td>4</td>\n",
       "      <td>397</td>\n",
       "      <td>2251191616254289152</td>\n",
       "      <td>4874.0</td>\n",
       "      <td>4869.0</td>\n",
       "      <td>4881.0</td>\n",
       "      <td>2.22</td>\n",
       "      <td>2.21</td>\n",
       "      <td>2.24</td>\n",
       "      <td>...</td>\n",
       "      <td>-0.45</td>\n",
       "      <td>0.06</td>\n",
       "      <td>0.05</td>\n",
       "      <td>0.06</td>\n",
       "      <td>0.19</td>\n",
       "      <td>0.06</td>\n",
       "      <td>0.29</td>\n",
       "      <td>-0.11</td>\n",
       "      <td>-0.15</td>\n",
       "      <td>-0.07</td>\n",
       "    </tr>\n",
       "    <tr>\n",
       "      <th>4</th>\n",
       "      <td>5</td>\n",
       "      <td>5</td>\n",
       "      <td>422</td>\n",
       "      <td>2012946546232262272</td>\n",
       "      <td>5396.0</td>\n",
       "      <td>5347.0</td>\n",
       "      <td>5454.0</td>\n",
       "      <td>4.25</td>\n",
       "      <td>4.11</td>\n",
       "      <td>4.37</td>\n",
       "      <td>...</td>\n",
       "      <td>-0.13</td>\n",
       "      <td>0.21</td>\n",
       "      <td>0.19</td>\n",
       "      <td>0.29</td>\n",
       "      <td>NaN</td>\n",
       "      <td>NaN</td>\n",
       "      <td>NaN</td>\n",
       "      <td>0.01</td>\n",
       "      <td>-0.19</td>\n",
       "      <td>0.16</td>\n",
       "    </tr>\n",
       "  </tbody>\n",
       "</table>\n",
       "<p>5 rows × 22 columns</p>\n",
       "</div>"
      ],
      "text/plain": [
       "   Unnamed: 0.2  Unnamed: 0  Unnamed: 0.1            source_id  teff_gspspec  \\\n",
       "0             0           0            47  5917085665270502784        4584.0   \n",
       "1             1           1           119  5817805988703430528        6019.0   \n",
       "2             2           2           203  5332898885277010816        6705.0   \n",
       "3             4           4           397  2251191616254289152        4874.0   \n",
       "4             5           5           422  2012946546232262272        5396.0   \n",
       "\n",
       "   teff_gspspec_lower  teff_gspspec_upper  logg_gspspec  logg_gspspec_lower  \\\n",
       "0              4550.0              4608.0          1.68                1.60   \n",
       "1              5850.0              6216.0          4.53                4.26   \n",
       "2              6603.0              6895.0          3.22                3.14   \n",
       "3              4869.0              4881.0          2.22                2.21   \n",
       "4              5347.0              5454.0          4.25                4.11   \n",
       "\n",
       "   logg_gspspec_upper  ...  mh_gspspec_upper  alphafe_gspspec  \\\n",
       "0                1.77  ...             -0.16            -0.04   \n",
       "1                4.85  ...              0.03             0.04   \n",
       "2                3.33  ...             -0.28             0.60   \n",
       "3                2.24  ...             -0.45             0.06   \n",
       "4                4.37  ...             -0.13             0.21   \n",
       "\n",
       "   alphafe_gspspec_lower  alphafe_gspspec_upper  mgfe_gspspec  \\\n",
       "0                  -0.06                  -0.02           NaN   \n",
       "1                  -0.04                   0.13           NaN   \n",
       "2                   0.55                   0.61           NaN   \n",
       "3                   0.05                   0.06          0.19   \n",
       "4                   0.19                   0.29           NaN   \n",
       "\n",
       "   mgfe_gspspec_lower  mgfe_gspspec_upper  fem_gspspec  fem_gspspec_lower  \\\n",
       "0                 NaN                 NaN          NaN                NaN   \n",
       "1                 NaN                 NaN          NaN                NaN   \n",
       "2                 NaN                 NaN          NaN                NaN   \n",
       "3                0.06                0.29        -0.11              -0.15   \n",
       "4                 NaN                 NaN         0.01              -0.19   \n",
       "\n",
       "   fem_gspspec_upper  \n",
       "0                NaN  \n",
       "1                NaN  \n",
       "2                NaN  \n",
       "3              -0.07  \n",
       "4               0.16  \n",
       "\n",
       "[5 rows x 22 columns]"
      ]
     },
     "execution_count": 3,
     "metadata": {},
     "output_type": "execute_result"
    }
   ],
   "source": [
    "spec_df.head()"
   ]
  },
  {
   "cell_type": "code",
   "execution_count": 4,
   "metadata": {},
   "outputs": [
    {
     "name": "stdout",
     "output_type": "stream",
     "text": [
      "4926042\n"
     ]
    }
   ],
   "source": [
    "print(len(spec_df))"
   ]
  },
  {
   "cell_type": "code",
   "execution_count": 5,
   "metadata": {},
   "outputs": [
    {
     "name": "stdout",
     "output_type": "stream",
     "text": [
      "Index(['Unnamed: 0.2', 'Unnamed: 0', 'Unnamed: 0.1', 'source_id',\n",
      "       'teff_gspspec', 'teff_gspspec_lower', 'teff_gspspec_upper',\n",
      "       'logg_gspspec', 'logg_gspspec_lower', 'logg_gspspec_upper',\n",
      "       'mh_gspspec', 'mh_gspspec_lower', 'mh_gspspec_upper', 'alphafe_gspspec',\n",
      "       'alphafe_gspspec_lower', 'alphafe_gspspec_upper', 'mgfe_gspspec',\n",
      "       'mgfe_gspspec_lower', 'mgfe_gspspec_upper', 'fem_gspspec',\n",
      "       'fem_gspspec_lower', 'fem_gspspec_upper'],\n",
      "      dtype='object')\n"
     ]
    }
   ],
   "source": [
    "print(spec_df.columns)"
   ]
  },
  {
   "cell_type": "code",
   "execution_count": 12,
   "metadata": {},
   "outputs": [
    {
     "name": "stdout",
     "output_type": "stream",
     "text": [
      "0.2585394647074802\n"
     ]
    }
   ],
   "source": [
    "print(spec_df['mgfe_gspspec'].mean())"
   ]
  },
  {
   "cell_type": "code",
   "execution_count": 13,
   "metadata": {},
   "outputs": [
    {
     "name": "stdout",
     "output_type": "stream",
     "text": [
      "0.1805760512116361\n"
     ]
    }
   ],
   "source": [
    "print(spec_df['mgfe_gspspec'].std())"
   ]
  },
  {
   "cell_type": "code",
   "execution_count": 14,
   "metadata": {},
   "outputs": [],
   "source": [
    "def poly_correct(origd, logg, coeffs):\n",
    "    newd = origd.copy()\n",
    "    for i in range(len(coeffs)):\n",
    "        newd += (logg**i)*coeffs[i]\n",
    "    return newd"
   ]
  },
  {
   "cell_type": "code",
   "execution_count": 24,
   "metadata": {},
   "outputs": [],
   "source": [
    "correction_stats = {\n",
    "    'logg_gspspec': [0.4496, -0.0036, -0.0224, 0, 0],\n",
    "    'mh_gspspec': [0.274, -0.1373, -0.005, 0.0048, 0],\n",
    "    'alphafe_gspspec': [-0.5809, 0.7018, -0.2402, 0.0239, 0.000],\n",
    "    'cafe_gspspec': [-0.625, 0.7558, -0.2581, 0.0256, 0.000],\n",
    "    'mgfe_gspspec': [-0.7244, 0.3779, -0.0421, -0.0038, 0.000],\n",
    "    'sfe_gspspec': [-17.6080, 12.3239, -2.8595, 0.2192, 0.000],\n",
    "    'sife_gspspec': [-0.3491, 0.3757, -0.1051, 0.0092, 0.000],\n",
    "    'tife_gspspec': [-0.2656, 0.4551, -0.1901, 0.0209, 0.000],\n",
    "    'crfe_gspspec': [-0.0769, -0.1299, 0.1009, -0.0200, 0.000],\n",
    "    'nfe_gspspec': [0.0975, -0.0293, 0.0238, -0.0071, 0.000],\n",
    "}"
   ]
  },
  {
   "cell_type": "code",
   "execution_count": 25,
   "metadata": {},
   "outputs": [],
   "source": [
    "correction_df = pd.DataFrame(correction_stats)"
   ]
  },
  {
   "cell_type": "code",
   "execution_count": 26,
   "metadata": {},
   "outputs": [
    {
     "data": {
      "text/html": [
       "<div>\n",
       "<style scoped>\n",
       "    .dataframe tbody tr th:only-of-type {\n",
       "        vertical-align: middle;\n",
       "    }\n",
       "\n",
       "    .dataframe tbody tr th {\n",
       "        vertical-align: top;\n",
       "    }\n",
       "\n",
       "    .dataframe thead th {\n",
       "        text-align: right;\n",
       "    }\n",
       "</style>\n",
       "<table border=\"1\" class=\"dataframe\">\n",
       "  <thead>\n",
       "    <tr style=\"text-align: right;\">\n",
       "      <th></th>\n",
       "      <th>logg_gspspec</th>\n",
       "      <th>mh_gspspec</th>\n",
       "      <th>alphafe_gspspec</th>\n",
       "      <th>cafe_gspspec</th>\n",
       "      <th>mgfe_gspspec</th>\n",
       "      <th>sfe_gspspec</th>\n",
       "      <th>sife_gspspec</th>\n",
       "      <th>tife_gspspec</th>\n",
       "      <th>crfe_gspspec</th>\n",
       "      <th>nfe_gspspec</th>\n",
       "    </tr>\n",
       "  </thead>\n",
       "  <tbody>\n",
       "    <tr>\n",
       "      <th>0</th>\n",
       "      <td>0.4496</td>\n",
       "      <td>0.2740</td>\n",
       "      <td>-0.5809</td>\n",
       "      <td>-0.6250</td>\n",
       "      <td>-0.7244</td>\n",
       "      <td>-17.6080</td>\n",
       "      <td>-0.3491</td>\n",
       "      <td>-0.2656</td>\n",
       "      <td>-0.0769</td>\n",
       "      <td>0.0975</td>\n",
       "    </tr>\n",
       "    <tr>\n",
       "      <th>1</th>\n",
       "      <td>-0.0036</td>\n",
       "      <td>-0.1373</td>\n",
       "      <td>0.7018</td>\n",
       "      <td>0.7558</td>\n",
       "      <td>0.3779</td>\n",
       "      <td>12.3239</td>\n",
       "      <td>0.3757</td>\n",
       "      <td>0.4551</td>\n",
       "      <td>-0.1299</td>\n",
       "      <td>-0.0293</td>\n",
       "    </tr>\n",
       "    <tr>\n",
       "      <th>2</th>\n",
       "      <td>-0.0224</td>\n",
       "      <td>-0.0050</td>\n",
       "      <td>-0.2402</td>\n",
       "      <td>-0.2581</td>\n",
       "      <td>-0.0421</td>\n",
       "      <td>-2.8595</td>\n",
       "      <td>-0.1051</td>\n",
       "      <td>-0.1901</td>\n",
       "      <td>0.1009</td>\n",
       "      <td>0.0238</td>\n",
       "    </tr>\n",
       "    <tr>\n",
       "      <th>3</th>\n",
       "      <td>0.0000</td>\n",
       "      <td>0.0048</td>\n",
       "      <td>0.0239</td>\n",
       "      <td>0.0256</td>\n",
       "      <td>-0.0038</td>\n",
       "      <td>0.2192</td>\n",
       "      <td>0.0092</td>\n",
       "      <td>0.0209</td>\n",
       "      <td>-0.0200</td>\n",
       "      <td>-0.0071</td>\n",
       "    </tr>\n",
       "    <tr>\n",
       "      <th>4</th>\n",
       "      <td>0.0000</td>\n",
       "      <td>0.0000</td>\n",
       "      <td>0.0000</td>\n",
       "      <td>0.0000</td>\n",
       "      <td>0.0000</td>\n",
       "      <td>0.0000</td>\n",
       "      <td>0.0000</td>\n",
       "      <td>0.0000</td>\n",
       "      <td>0.0000</td>\n",
       "      <td>0.0000</td>\n",
       "    </tr>\n",
       "  </tbody>\n",
       "</table>\n",
       "</div>"
      ],
      "text/plain": [
       "   logg_gspspec  mh_gspspec  alphafe_gspspec  cafe_gspspec  mgfe_gspspec  \\\n",
       "0        0.4496      0.2740          -0.5809       -0.6250       -0.7244   \n",
       "1       -0.0036     -0.1373           0.7018        0.7558        0.3779   \n",
       "2       -0.0224     -0.0050          -0.2402       -0.2581       -0.0421   \n",
       "3        0.0000      0.0048           0.0239        0.0256       -0.0038   \n",
       "4        0.0000      0.0000           0.0000        0.0000        0.0000   \n",
       "\n",
       "   sfe_gspspec  sife_gspspec  tife_gspspec  crfe_gspspec  nfe_gspspec  \n",
       "0     -17.6080       -0.3491       -0.2656       -0.0769       0.0975  \n",
       "1      12.3239        0.3757        0.4551       -0.1299      -0.0293  \n",
       "2      -2.8595       -0.1051       -0.1901        0.1009       0.0238  \n",
       "3       0.2192        0.0092        0.0209       -0.0200      -0.0071  \n",
       "4       0.0000        0.0000        0.0000        0.0000       0.0000  "
      ]
     },
     "execution_count": 26,
     "metadata": {},
     "output_type": "execute_result"
    }
   ],
   "source": [
    "correction_df.head()"
   ]
  },
  {
   "cell_type": "code",
   "execution_count": 27,
   "metadata": {},
   "outputs": [],
   "source": [
    "correction_df.to_csv('corrections_params.csv')"
   ]
  },
  {
   "cell_type": "code",
   "execution_count": 20,
   "metadata": {},
   "outputs": [
    {
     "data": {
      "text/plain": [
       "-0.0421"
      ]
     },
     "execution_count": 20,
     "metadata": {},
     "output_type": "execute_result"
    }
   ],
   "source": []
  },
  {
   "cell_type": "code",
   "execution_count": 28,
   "metadata": {},
   "outputs": [],
   "source": [
    "spec_df = spec_df.loc[spec_df['logg_gspspec']<=4.85]"
   ]
  },
  {
   "cell_type": "code",
   "execution_count": 29,
   "metadata": {},
   "outputs": [],
   "source": [
    "spec_df = spec_df.loc[spec_df['logg_gspspec']>=1.01]"
   ]
  },
  {
   "cell_type": "code",
   "execution_count": 30,
   "metadata": {},
   "outputs": [
    {
     "name": "stdout",
     "output_type": "stream",
     "text": [
      "4529372\n"
     ]
    }
   ],
   "source": [
    "print(len(spec_df))"
   ]
  },
  {
   "cell_type": "code",
   "execution_count": 31,
   "metadata": {},
   "outputs": [],
   "source": [
    "spec_df['logg_gspspec'] = poly_correct(spec_df['logg_gspspec'], spec_df['logg_gspspec'], correction_df['logg_gspspec'])"
   ]
  },
  {
   "cell_type": "code",
   "execution_count": 32,
   "metadata": {},
   "outputs": [
    {
     "data": {
      "text/html": [
       "<div>\n",
       "<style scoped>\n",
       "    .dataframe tbody tr th:only-of-type {\n",
       "        vertical-align: middle;\n",
       "    }\n",
       "\n",
       "    .dataframe tbody tr th {\n",
       "        vertical-align: top;\n",
       "    }\n",
       "\n",
       "    .dataframe thead th {\n",
       "        text-align: right;\n",
       "    }\n",
       "</style>\n",
       "<table border=\"1\" class=\"dataframe\">\n",
       "  <thead>\n",
       "    <tr style=\"text-align: right;\">\n",
       "      <th></th>\n",
       "      <th>Unnamed: 0.2</th>\n",
       "      <th>Unnamed: 0</th>\n",
       "      <th>Unnamed: 0.1</th>\n",
       "      <th>source_id</th>\n",
       "      <th>teff_gspspec</th>\n",
       "      <th>teff_gspspec_lower</th>\n",
       "      <th>teff_gspspec_upper</th>\n",
       "      <th>logg_gspspec</th>\n",
       "      <th>logg_gspspec_lower</th>\n",
       "      <th>logg_gspspec_upper</th>\n",
       "      <th>...</th>\n",
       "      <th>mh_gspspec_upper</th>\n",
       "      <th>alphafe_gspspec</th>\n",
       "      <th>alphafe_gspspec_lower</th>\n",
       "      <th>alphafe_gspspec_upper</th>\n",
       "      <th>mgfe_gspspec</th>\n",
       "      <th>mgfe_gspspec_lower</th>\n",
       "      <th>mgfe_gspspec_upper</th>\n",
       "      <th>fem_gspspec</th>\n",
       "      <th>fem_gspspec_lower</th>\n",
       "      <th>fem_gspspec_upper</th>\n",
       "    </tr>\n",
       "  </thead>\n",
       "  <tbody>\n",
       "    <tr>\n",
       "      <th>0</th>\n",
       "      <td>0</td>\n",
       "      <td>0</td>\n",
       "      <td>47</td>\n",
       "      <td>5917085665270502784</td>\n",
       "      <td>4584.0</td>\n",
       "      <td>4550.0</td>\n",
       "      <td>4608.0</td>\n",
       "      <td>2.060330</td>\n",
       "      <td>1.60</td>\n",
       "      <td>1.77</td>\n",
       "      <td>...</td>\n",
       "      <td>-0.16</td>\n",
       "      <td>-0.04</td>\n",
       "      <td>-0.06</td>\n",
       "      <td>-0.02</td>\n",
       "      <td>NaN</td>\n",
       "      <td>NaN</td>\n",
       "      <td>NaN</td>\n",
       "      <td>NaN</td>\n",
       "      <td>NaN</td>\n",
       "      <td>NaN</td>\n",
       "    </tr>\n",
       "    <tr>\n",
       "      <th>1</th>\n",
       "      <td>1</td>\n",
       "      <td>1</td>\n",
       "      <td>119</td>\n",
       "      <td>5817805988703430528</td>\n",
       "      <td>6019.0</td>\n",
       "      <td>5850.0</td>\n",
       "      <td>6216.0</td>\n",
       "      <td>4.503624</td>\n",
       "      <td>4.26</td>\n",
       "      <td>4.85</td>\n",
       "      <td>...</td>\n",
       "      <td>0.03</td>\n",
       "      <td>0.04</td>\n",
       "      <td>-0.04</td>\n",
       "      <td>0.13</td>\n",
       "      <td>NaN</td>\n",
       "      <td>NaN</td>\n",
       "      <td>NaN</td>\n",
       "      <td>NaN</td>\n",
       "      <td>NaN</td>\n",
       "      <td>NaN</td>\n",
       "    </tr>\n",
       "    <tr>\n",
       "      <th>2</th>\n",
       "      <td>2</td>\n",
       "      <td>2</td>\n",
       "      <td>203</td>\n",
       "      <td>5332898885277010816</td>\n",
       "      <td>6705.0</td>\n",
       "      <td>6603.0</td>\n",
       "      <td>6895.0</td>\n",
       "      <td>3.425756</td>\n",
       "      <td>3.14</td>\n",
       "      <td>3.33</td>\n",
       "      <td>...</td>\n",
       "      <td>-0.28</td>\n",
       "      <td>0.60</td>\n",
       "      <td>0.55</td>\n",
       "      <td>0.61</td>\n",
       "      <td>NaN</td>\n",
       "      <td>NaN</td>\n",
       "      <td>NaN</td>\n",
       "      <td>NaN</td>\n",
       "      <td>NaN</td>\n",
       "      <td>NaN</td>\n",
       "    </tr>\n",
       "    <tr>\n",
       "      <th>3</th>\n",
       "      <td>4</td>\n",
       "      <td>4</td>\n",
       "      <td>397</td>\n",
       "      <td>2251191616254289152</td>\n",
       "      <td>4874.0</td>\n",
       "      <td>4869.0</td>\n",
       "      <td>4881.0</td>\n",
       "      <td>2.551212</td>\n",
       "      <td>2.21</td>\n",
       "      <td>2.24</td>\n",
       "      <td>...</td>\n",
       "      <td>-0.45</td>\n",
       "      <td>0.06</td>\n",
       "      <td>0.05</td>\n",
       "      <td>0.06</td>\n",
       "      <td>0.19</td>\n",
       "      <td>0.06</td>\n",
       "      <td>0.29</td>\n",
       "      <td>-0.11</td>\n",
       "      <td>-0.15</td>\n",
       "      <td>-0.07</td>\n",
       "    </tr>\n",
       "    <tr>\n",
       "      <th>4</th>\n",
       "      <td>5</td>\n",
       "      <td>5</td>\n",
       "      <td>422</td>\n",
       "      <td>2012946546232262272</td>\n",
       "      <td>5396.0</td>\n",
       "      <td>5347.0</td>\n",
       "      <td>5454.0</td>\n",
       "      <td>4.279700</td>\n",
       "      <td>4.11</td>\n",
       "      <td>4.37</td>\n",
       "      <td>...</td>\n",
       "      <td>-0.13</td>\n",
       "      <td>0.21</td>\n",
       "      <td>0.19</td>\n",
       "      <td>0.29</td>\n",
       "      <td>NaN</td>\n",
       "      <td>NaN</td>\n",
       "      <td>NaN</td>\n",
       "      <td>0.01</td>\n",
       "      <td>-0.19</td>\n",
       "      <td>0.16</td>\n",
       "    </tr>\n",
       "  </tbody>\n",
       "</table>\n",
       "<p>5 rows × 22 columns</p>\n",
       "</div>"
      ],
      "text/plain": [
       "   Unnamed: 0.2  Unnamed: 0  Unnamed: 0.1            source_id  teff_gspspec  \\\n",
       "0             0           0            47  5917085665270502784        4584.0   \n",
       "1             1           1           119  5817805988703430528        6019.0   \n",
       "2             2           2           203  5332898885277010816        6705.0   \n",
       "3             4           4           397  2251191616254289152        4874.0   \n",
       "4             5           5           422  2012946546232262272        5396.0   \n",
       "\n",
       "   teff_gspspec_lower  teff_gspspec_upper  logg_gspspec  logg_gspspec_lower  \\\n",
       "0              4550.0              4608.0      2.060330                1.60   \n",
       "1              5850.0              6216.0      4.503624                4.26   \n",
       "2              6603.0              6895.0      3.425756                3.14   \n",
       "3              4869.0              4881.0      2.551212                2.21   \n",
       "4              5347.0              5454.0      4.279700                4.11   \n",
       "\n",
       "   logg_gspspec_upper  ...  mh_gspspec_upper  alphafe_gspspec  \\\n",
       "0                1.77  ...             -0.16            -0.04   \n",
       "1                4.85  ...              0.03             0.04   \n",
       "2                3.33  ...             -0.28             0.60   \n",
       "3                2.24  ...             -0.45             0.06   \n",
       "4                4.37  ...             -0.13             0.21   \n",
       "\n",
       "   alphafe_gspspec_lower  alphafe_gspspec_upper  mgfe_gspspec  \\\n",
       "0                  -0.06                  -0.02           NaN   \n",
       "1                  -0.04                   0.13           NaN   \n",
       "2                   0.55                   0.61           NaN   \n",
       "3                   0.05                   0.06          0.19   \n",
       "4                   0.19                   0.29           NaN   \n",
       "\n",
       "   mgfe_gspspec_lower  mgfe_gspspec_upper  fem_gspspec  fem_gspspec_lower  \\\n",
       "0                 NaN                 NaN          NaN                NaN   \n",
       "1                 NaN                 NaN          NaN                NaN   \n",
       "2                 NaN                 NaN          NaN                NaN   \n",
       "3                0.06                0.29        -0.11              -0.15   \n",
       "4                 NaN                 NaN         0.01              -0.19   \n",
       "\n",
       "   fem_gspspec_upper  \n",
       "0                NaN  \n",
       "1                NaN  \n",
       "2                NaN  \n",
       "3              -0.07  \n",
       "4               0.16  \n",
       "\n",
       "[5 rows x 22 columns]"
      ]
     },
     "execution_count": 32,
     "metadata": {},
     "output_type": "execute_result"
    }
   ],
   "source": [
    "spec_df.head()"
   ]
  },
  {
   "cell_type": "code",
   "execution_count": 33,
   "metadata": {},
   "outputs": [],
   "source": [
    "spec_df['logg_gspspec_lower'] = poly_correct(\n",
    "    spec_df['logg_gspspec_lower'], spec_df['logg_gspspec'], correction_df['logg_gspspec'])"
   ]
  },
  {
   "cell_type": "code",
   "execution_count": 34,
   "metadata": {},
   "outputs": [],
   "source": [
    "spec_df['logg_gspspec_upper'] = poly_correct(\n",
    "    spec_df['logg_gspspec_upper'], spec_df['logg_gspspec'], correction_df['logg_gspspec'])"
   ]
  },
  {
   "cell_type": "code",
   "execution_count": 35,
   "metadata": {},
   "outputs": [],
   "source": [
    "spec_df['mh_gspspec'] = poly_correct(\n",
    "    spec_df['mh_gspspec'], spec_df['logg_gspspec'], correction_df['mh_gspspec'])"
   ]
  },
  {
   "cell_type": "code",
   "execution_count": 36,
   "metadata": {},
   "outputs": [],
   "source": [
    "spec_df['mh_gspspec_lower'] = poly_correct(\n",
    "    spec_df['mh_gspspec_lower'], spec_df['logg_gspspec'], correction_df['mh_gspspec'])"
   ]
  },
  {
   "cell_type": "code",
   "execution_count": 37,
   "metadata": {},
   "outputs": [],
   "source": [
    "spec_df['mh_gspspec_upper'] = poly_correct(\n",
    "    spec_df['mh_gspspec_upper'], spec_df['logg_gspspec'], correction_df['mh_gspspec'])"
   ]
  },
  {
   "cell_type": "code",
   "execution_count": 38,
   "metadata": {},
   "outputs": [],
   "source": [
    "spec_df['alphafe_gspspec'] = poly_correct(\n",
    "    spec_df['alphafe_gspspec'], spec_df['logg_gspspec'], correction_df['alphafe_gspspec'])"
   ]
  },
  {
   "cell_type": "code",
   "execution_count": 40,
   "metadata": {},
   "outputs": [],
   "source": [
    "spec_df['alphafe_gspspec_lower'] = poly_correct(\n",
    "    spec_df['alphafe_gspspec_lower'], spec_df['logg_gspspec'], correction_df['alphafe_gspspec'])"
   ]
  },
  {
   "cell_type": "code",
   "execution_count": 41,
   "metadata": {},
   "outputs": [],
   "source": [
    "spec_df['alphafe_gspspec_upper'] = poly_correct(\n",
    "    spec_df['alphafe_gspspec_upper'], spec_df['logg_gspspec'], correction_df['alphafe_gspspec'])"
   ]
  },
  {
   "cell_type": "code",
   "execution_count": 42,
   "metadata": {},
   "outputs": [
    {
     "data": {
      "text/html": [
       "<div>\n",
       "<style scoped>\n",
       "    .dataframe tbody tr th:only-of-type {\n",
       "        vertical-align: middle;\n",
       "    }\n",
       "\n",
       "    .dataframe tbody tr th {\n",
       "        vertical-align: top;\n",
       "    }\n",
       "\n",
       "    .dataframe thead th {\n",
       "        text-align: right;\n",
       "    }\n",
       "</style>\n",
       "<table border=\"1\" class=\"dataframe\">\n",
       "  <thead>\n",
       "    <tr style=\"text-align: right;\">\n",
       "      <th></th>\n",
       "      <th>Unnamed: 0.2</th>\n",
       "      <th>Unnamed: 0</th>\n",
       "      <th>Unnamed: 0.1</th>\n",
       "      <th>source_id</th>\n",
       "      <th>teff_gspspec</th>\n",
       "      <th>teff_gspspec_lower</th>\n",
       "      <th>teff_gspspec_upper</th>\n",
       "      <th>logg_gspspec</th>\n",
       "      <th>logg_gspspec_lower</th>\n",
       "      <th>logg_gspspec_upper</th>\n",
       "      <th>...</th>\n",
       "      <th>mh_gspspec_upper</th>\n",
       "      <th>alphafe_gspspec</th>\n",
       "      <th>alphafe_gspspec_lower</th>\n",
       "      <th>alphafe_gspspec_upper</th>\n",
       "      <th>mgfe_gspspec</th>\n",
       "      <th>mgfe_gspspec_lower</th>\n",
       "      <th>mgfe_gspspec_upper</th>\n",
       "      <th>fem_gspspec</th>\n",
       "      <th>fem_gspspec_lower</th>\n",
       "      <th>fem_gspspec_upper</th>\n",
       "    </tr>\n",
       "  </thead>\n",
       "  <tbody>\n",
       "    <tr>\n",
       "      <th>0</th>\n",
       "      <td>0</td>\n",
       "      <td>0</td>\n",
       "      <td>47</td>\n",
       "      <td>5917085665270502784</td>\n",
       "      <td>4584.0</td>\n",
       "      <td>4550.0</td>\n",
       "      <td>4608.0</td>\n",
       "      <td>2.060330</td>\n",
       "      <td>1.947096</td>\n",
       "      <td>2.117096</td>\n",
       "      <td>...</td>\n",
       "      <td>-0.148127</td>\n",
       "      <td>0.014430</td>\n",
       "      <td>-0.005570</td>\n",
       "      <td>0.034430</td>\n",
       "      <td>NaN</td>\n",
       "      <td>NaN</td>\n",
       "      <td>NaN</td>\n",
       "      <td>NaN</td>\n",
       "      <td>NaN</td>\n",
       "      <td>NaN</td>\n",
       "    </tr>\n",
       "    <tr>\n",
       "      <th>1</th>\n",
       "      <td>1</td>\n",
       "      <td>1</td>\n",
       "      <td>119</td>\n",
       "      <td>5817805988703430528</td>\n",
       "      <td>6019.0</td>\n",
       "      <td>5850.0</td>\n",
       "      <td>6216.0</td>\n",
       "      <td>4.503624</td>\n",
       "      <td>4.239056</td>\n",
       "      <td>4.829056</td>\n",
       "      <td>...</td>\n",
       "      <td>0.022697</td>\n",
       "      <td>-0.068991</td>\n",
       "      <td>-0.148991</td>\n",
       "      <td>0.021009</td>\n",
       "      <td>NaN</td>\n",
       "      <td>NaN</td>\n",
       "      <td>NaN</td>\n",
       "      <td>NaN</td>\n",
       "      <td>NaN</td>\n",
       "      <td>NaN</td>\n",
       "    </tr>\n",
       "    <tr>\n",
       "      <th>2</th>\n",
       "      <td>2</td>\n",
       "      <td>2</td>\n",
       "      <td>203</td>\n",
       "      <td>5332898885277010816</td>\n",
       "      <td>6705.0</td>\n",
       "      <td>6603.0</td>\n",
       "      <td>6895.0</td>\n",
       "      <td>3.425756</td>\n",
       "      <td>3.314385</td>\n",
       "      <td>3.504385</td>\n",
       "      <td>...</td>\n",
       "      <td>-0.342056</td>\n",
       "      <td>0.565231</td>\n",
       "      <td>0.515231</td>\n",
       "      <td>0.575231</td>\n",
       "      <td>NaN</td>\n",
       "      <td>NaN</td>\n",
       "      <td>NaN</td>\n",
       "      <td>NaN</td>\n",
       "      <td>NaN</td>\n",
       "      <td>NaN</td>\n",
       "    </tr>\n",
       "    <tr>\n",
       "      <th>3</th>\n",
       "      <td>4</td>\n",
       "      <td>4</td>\n",
       "      <td>397</td>\n",
       "      <td>2251191616254289152</td>\n",
       "      <td>4874.0</td>\n",
       "      <td>4869.0</td>\n",
       "      <td>4881.0</td>\n",
       "      <td>2.551212</td>\n",
       "      <td>2.504621</td>\n",
       "      <td>2.534621</td>\n",
       "      <td>...</td>\n",
       "      <td>-0.479121</td>\n",
       "      <td>0.103015</td>\n",
       "      <td>0.093015</td>\n",
       "      <td>0.103015</td>\n",
       "      <td>0.19</td>\n",
       "      <td>0.06</td>\n",
       "      <td>0.29</td>\n",
       "      <td>-0.11</td>\n",
       "      <td>-0.15</td>\n",
       "      <td>-0.07</td>\n",
       "    </tr>\n",
       "    <tr>\n",
       "      <th>4</th>\n",
       "      <td>5</td>\n",
       "      <td>5</td>\n",
       "      <td>422</td>\n",
       "      <td>2012946546232262272</td>\n",
       "      <td>5396.0</td>\n",
       "      <td>5347.0</td>\n",
       "      <td>5454.0</td>\n",
       "      <td>4.279700</td>\n",
       "      <td>4.133918</td>\n",
       "      <td>4.393918</td>\n",
       "      <td>...</td>\n",
       "      <td>-0.158928</td>\n",
       "      <td>0.106562</td>\n",
       "      <td>0.086562</td>\n",
       "      <td>0.186562</td>\n",
       "      <td>NaN</td>\n",
       "      <td>NaN</td>\n",
       "      <td>NaN</td>\n",
       "      <td>0.01</td>\n",
       "      <td>-0.19</td>\n",
       "      <td>0.16</td>\n",
       "    </tr>\n",
       "  </tbody>\n",
       "</table>\n",
       "<p>5 rows × 22 columns</p>\n",
       "</div>"
      ],
      "text/plain": [
       "   Unnamed: 0.2  Unnamed: 0  Unnamed: 0.1            source_id  teff_gspspec  \\\n",
       "0             0           0            47  5917085665270502784        4584.0   \n",
       "1             1           1           119  5817805988703430528        6019.0   \n",
       "2             2           2           203  5332898885277010816        6705.0   \n",
       "3             4           4           397  2251191616254289152        4874.0   \n",
       "4             5           5           422  2012946546232262272        5396.0   \n",
       "\n",
       "   teff_gspspec_lower  teff_gspspec_upper  logg_gspspec  logg_gspspec_lower  \\\n",
       "0              4550.0              4608.0      2.060330            1.947096   \n",
       "1              5850.0              6216.0      4.503624            4.239056   \n",
       "2              6603.0              6895.0      3.425756            3.314385   \n",
       "3              4869.0              4881.0      2.551212            2.504621   \n",
       "4              5347.0              5454.0      4.279700            4.133918   \n",
       "\n",
       "   logg_gspspec_upper  ...  mh_gspspec_upper  alphafe_gspspec  \\\n",
       "0            2.117096  ...         -0.148127         0.014430   \n",
       "1            4.829056  ...          0.022697        -0.068991   \n",
       "2            3.504385  ...         -0.342056         0.565231   \n",
       "3            2.534621  ...         -0.479121         0.103015   \n",
       "4            4.393918  ...         -0.158928         0.106562   \n",
       "\n",
       "   alphafe_gspspec_lower  alphafe_gspspec_upper  mgfe_gspspec  \\\n",
       "0              -0.005570               0.034430           NaN   \n",
       "1              -0.148991               0.021009           NaN   \n",
       "2               0.515231               0.575231           NaN   \n",
       "3               0.093015               0.103015          0.19   \n",
       "4               0.086562               0.186562           NaN   \n",
       "\n",
       "   mgfe_gspspec_lower  mgfe_gspspec_upper  fem_gspspec  fem_gspspec_lower  \\\n",
       "0                 NaN                 NaN          NaN                NaN   \n",
       "1                 NaN                 NaN          NaN                NaN   \n",
       "2                 NaN                 NaN          NaN                NaN   \n",
       "3                0.06                0.29        -0.11              -0.15   \n",
       "4                 NaN                 NaN         0.01              -0.19   \n",
       "\n",
       "   fem_gspspec_upper  \n",
       "0                NaN  \n",
       "1                NaN  \n",
       "2                NaN  \n",
       "3              -0.07  \n",
       "4               0.16  \n",
       "\n",
       "[5 rows x 22 columns]"
      ]
     },
     "execution_count": 42,
     "metadata": {},
     "output_type": "execute_result"
    }
   ],
   "source": [
    "spec_df.head()"
   ]
  },
  {
   "cell_type": "code",
   "execution_count": 43,
   "metadata": {},
   "outputs": [],
   "source": [
    "spec_df.to_csv('spec_logg_mh_alphafe_callibrated.csv')"
   ]
  },
  {
   "cell_type": "code",
   "execution_count": null,
   "metadata": {},
   "outputs": [],
   "source": []
  },
  {
   "cell_type": "code",
   "execution_count": null,
   "metadata": {},
   "outputs": [],
   "source": []
  },
  {
   "cell_type": "code",
   "execution_count": null,
   "metadata": {},
   "outputs": [],
   "source": []
  },
  {
   "cell_type": "code",
   "execution_count": null,
   "metadata": {},
   "outputs": [],
   "source": []
  },
  {
   "cell_type": "code",
   "execution_count": null,
   "metadata": {},
   "outputs": [],
   "source": []
  },
  {
   "cell_type": "code",
   "execution_count": null,
   "metadata": {},
   "outputs": [],
   "source": []
  },
  {
   "cell_type": "code",
   "execution_count": null,
   "metadata": {},
   "outputs": [],
   "source": []
  },
  {
   "cell_type": "code",
   "execution_count": 17,
   "metadata": {},
   "outputs": [
    {
     "name": "stdout",
     "output_type": "stream",
     "text": [
      "1701249\n"
     ]
    }
   ],
   "source": [
    "print(len(spec_df.loc[np.isfinite(spec_df['fem_gspspec'])]))"
   ]
  },
  {
   "cell_type": "code",
   "execution_count": 21,
   "metadata": {},
   "outputs": [
    {
     "data": {
      "text/plain": [
       "[(0.0, 7.0)]"
      ]
     },
     "execution_count": 21,
     "metadata": {},
     "output_type": "execute_result"
    },
    {
     "data": {
      "image/png": "[encoded data removed]",
      "text/plain": [
       "<Figure size 432x288 with 1 Axes>"
      ]
     },
     "metadata": {
      "needs_background": "light"
     },
     "output_type": "display_data"
    }
   ],
   "source": [
    "spec_df_ = spec_df.copy()\n",
    "spec_df_['alphafe_gspspec'] = np.exp(spec_df_['alphafe_gspspec'])\n",
    "plot = sns.scatterplot(data=spec_df_, x='mh_gspspec', y='alphafe_gspspec')\n",
    "plot.set(ylim=(0,7))"
   ]
  },
  {
   "cell_type": "code",
   "execution_count": 23,
   "metadata": {},
   "outputs": [
    {
     "data": {
      "image/png": "[encoded data removed]",
      "text/plain": [
       "<Figure size 432x288 with 1 Axes>"
      ]
     },
     "metadata": {
      "needs_background": "light"
     },
     "output_type": "display_data"
    }
   ],
   "source": [
    "spec_df_ = spec_df.copy()\n",
    "plot = sns.scatterplot(data=spec_df_, x='logg_gspspec', y='alphafe_gspspec')"
   ]
  },
  {
   "cell_type": "code",
   "execution_count": null,
   "metadata": {},
   "outputs": [],
   "source": []
  }
 ],
 "metadata": {
  "interpreter": {
   "hash": "5131ce647f21c206a4784475f9f4326171bdf6fb90906c71f085fe6b2f1d5c06"
  },
  "kernelspec": {
   "display_name": "Python 3 (ipykernel)",
   "language": "python",
   "name": "python3"
  },
  "language_info": {
   "codemirror_mode": {
    "name": "ipython",
    "version": 3
   },
   "file_extension": ".py",
   "mimetype": "text/x-python",
   "name": "python",
   "nbconvert_exporter": "python",
   "pygments_lexer": "ipython3",
   "version": "3.8.10"
  }
 },
 "nbformat": 4,
 "nbformat_minor": 2
}
