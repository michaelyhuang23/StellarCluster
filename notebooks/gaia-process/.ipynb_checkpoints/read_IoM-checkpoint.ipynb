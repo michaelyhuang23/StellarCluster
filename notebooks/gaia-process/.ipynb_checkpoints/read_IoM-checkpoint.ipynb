{
 "cells": [
  {
   "cell_type": "code",
   "execution_count": 1,
   "id": "9c091f71",
   "metadata": {},
   "outputs": [],
   "source": [
    "import h5py\n",
    "import pandas as pd\n",
    "import numpy as np"
   ]
  },
  {
   "cell_type": "code",
   "execution_count": 2,
   "id": "77c249b6",
   "metadata": {},
   "outputs": [
    {
     "name": "stdout",
     "output_type": "stream",
     "text": [
      "<KeysViewHDF5 ['Etot', 'JR', 'Jphi', 'Jz', 'KE', 'Lx', 'Ly', 'Lz', 'PE', 'U', 'V', 'W', 'XGC', 'YGC', 'ZGC', 'apo', 'cov_UV', 'cov_UW', 'cov_VW', 'cov_vphiz', 'cov_vrphi', 'cov_vrz', 'e_Etot', 'e_JR', 'e_Jphi', 'e_Jz', 'e_KE', 'e_Lx', 'e_Ly', 'e_Lz', 'e_PE', 'e_U', 'e_V', 'e_W', 'e_XGC', 'e_YGC', 'e_ZGC', 'e_apo', 'e_ecc', 'e_peri', 'e_vphi', 'e_vr', 'e_vz', 'e_zmax', 'ecc', 'f_v_forder', 'parallax_zpcorr', 'peri', 'source_id', 'vphi', 'vr', 'vz', 'zero_point_correction', 'zmax']>\n",
      "initial length 33812183\n",
      "precut length 31725506\n",
      "final length 329873\n"
     ]
    }
   ],
   "source": [
    "df = pd.DataFrame() # Make an empty data frame; you can also use a python dict here \n",
    "\n",
    "needed_keys = ['Etot','JR', 'Jphi', 'Jz', 'Lx', 'Ly', 'ecc','U', 'V', 'vr', 'W', 'vphi', 'XGC', 'YGC', 'ZGC', 'zmax', 'source_id'] # source_id is temporarily removed\n",
    "with h5py.File('../../data/gaia/vel_err_orb_err_rvcorr_all.h5','r') as f:\n",
    "    print(f.keys()) # Print what columns are in the file\n",
    "    for key in needed_keys:\n",
    "        df[key] = np.array(f[key])\n",
    "print('initial length', len(df))\n",
    "df = df.loc[np.isfinite(df['Etot'])]\n",
    "df = df.loc[df['Etot']<0]\n",
    "print('precut length', len(df))\n",
    "df = df.loc[df['zmax']>=4000]\n",
    "print('final length', len(df))\n",
    "df.to_hdf('../../data/gaia/common_kinematics.h5', key='star')"
   ]
  },
  {
   "cell_type": "code",
   "execution_count": null,
   "id": "3265e266",
   "metadata": {},
   "outputs": [],
   "source": [
    "df.head()"
   ]
  },
  {
   "cell_type": "code",
   "execution_count": null,
   "id": "0765861f",
   "metadata": {},
   "outputs": [],
   "source": [
    "df.tail()"
   ]
  },
  {
   "cell_type": "code",
   "execution_count": null,
   "id": "8dfd29da",
   "metadata": {},
   "outputs": [],
   "source": [
    "import seaborn as sns"
   ]
  },
  {
   "cell_type": "code",
   "execution_count": null,
   "id": "628848f1",
   "metadata": {},
   "outputs": [],
   "source": [
    "print(np.mean(df['KE'].to_numpy()))\n",
    "print(np.std(df['KE'].to_numpy()))"
   ]
  },
  {
   "cell_type": "code",
   "execution_count": null,
   "id": "7ea14ff7",
   "metadata": {},
   "outputs": [],
   "source": [
    "print(np.min(df['KE']))\n",
    "print(np.max(df['KE']))"
   ]
  },
  {
   "cell_type": "code",
   "execution_count": null,
   "id": "e116f83b",
   "metadata": {},
   "outputs": [],
   "source": [
    "sns.histplot(data=df, x='Etot')"
   ]
  },
  {
   "cell_type": "code",
   "execution_count": null,
   "id": "ba9d0af8",
   "metadata": {},
   "outputs": [],
   "source": []
  }
 ],
 "metadata": {
  "kernelspec": {
   "display_name": "Python 3 (ipykernel)",
   "language": "python",
   "name": "python3"
  },
  "language_info": {
   "codemirror_mode": {
    "name": "ipython",
    "version": 3
   },
   "file_extension": ".py",
   "mimetype": "text/x-python",
   "name": "python",
   "nbconvert_exporter": "python",
   "pygments_lexer": "ipython3",
   "version": "3.8.10"
  }
 },
 "nbformat": 4,
 "nbformat_minor": 5
}
