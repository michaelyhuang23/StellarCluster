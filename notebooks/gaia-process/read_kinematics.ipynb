{
 "cells": [
  {
   "cell_type": "code",
   "execution_count": 1,
   "id": "79f433b9",
   "metadata": {},
   "outputs": [],
   "source": [
    "import pandas as pd\n",
    "import numpy as np\n",
    "import h5py"
   ]
  },
  {
   "cell_type": "code",
   "execution_count": 2,
   "id": "763cc5f3",
   "metadata": {},
   "outputs": [
    {
     "name": "stdout",
     "output_type": "stream",
     "text": [
      "<KeysViewHDF5 ['Etot', 'JR', 'Jphi', 'Jz', 'KE', 'Lx', 'Ly', 'Lz', 'PE', 'U', 'V', 'W', 'XGC', 'YGC', 'ZGC', 'apo', 'cov_UV', 'cov_UW', 'cov_VW', 'cov_vphiz', 'cov_vrphi', 'cov_vrz', 'e_Etot', 'e_JR', 'e_Jphi', 'e_Jz', 'e_KE', 'e_Lx', 'e_Ly', 'e_Lz', 'e_PE', 'e_U', 'e_V', 'e_W', 'e_XGC', 'e_YGC', 'e_ZGC', 'e_apo', 'e_ecc', 'e_peri', 'e_vphi', 'e_vr', 'e_vz', 'e_zmax', 'ecc', 'f_v_forder', 'parallax_zpcorr', 'peri', 'source_id', 'vphi', 'vr', 'vz', 'zero_point_correction', 'zmax']>\n",
      "Etot\n",
      "<HDF5 dataset \"Etot\": shape (33812183,), type \"<f8\">\n",
      "JR\n",
      "<HDF5 dataset \"JR\": shape (33812183,), type \"<f8\">\n",
      "Jphi\n",
      "<HDF5 dataset \"Jphi\": shape (33812183,), type \"<f8\">\n",
      "Jz\n",
      "<HDF5 dataset \"Jz\": shape (33812183,), type \"<f8\">\n",
      "KE\n",
      "<HDF5 dataset \"KE\": shape (33812183,), type \"<f8\">\n",
      "Lx\n",
      "<HDF5 dataset \"Lx\": shape (33812183,), type \"<f8\">\n",
      "Ly\n",
      "<HDF5 dataset \"Ly\": shape (33812183,), type \"<f8\">\n",
      "Lz\n",
      "<HDF5 dataset \"Lz\": shape (33812183,), type \"<f8\">\n",
      "PE\n",
      "<HDF5 dataset \"PE\": shape (33812183,), type \"<f8\">\n",
      "U\n",
      "<HDF5 dataset \"U\": shape (33812183,), type \"<f8\">\n",
      "V\n",
      "<HDF5 dataset \"V\": shape (33812183,), type \"<f8\">\n",
      "W\n",
      "<HDF5 dataset \"W\": shape (33812183,), type \"<f8\">\n",
      "XGC\n",
      "<HDF5 dataset \"XGC\": shape (33812183,), type \"<f8\">\n",
      "YGC\n",
      "<HDF5 dataset \"YGC\": shape (33812183,), type \"<f8\">\n",
      "ZGC\n",
      "<HDF5 dataset \"ZGC\": shape (33812183,), type \"<f8\">\n",
      "ecc\n",
      "<HDF5 dataset \"ecc\": shape (33812183,), type \"<f8\">\n",
      "source_id\n",
      "<HDF5 dataset \"source_id\": shape (33812183,), type \"<i8\">\n",
      "vphi\n",
      "<HDF5 dataset \"vphi\": shape (33812183,), type \"<f8\">\n",
      "vr\n",
      "<HDF5 dataset \"vr\": shape (33812183,), type \"<f8\">\n",
      "vz\n",
      "<HDF5 dataset \"vz\": shape (33812183,), type \"<f8\">\n",
      "zmax\n",
      "<HDF5 dataset \"zmax\": shape (33812183,), type \"<f8\">\n"
     ]
    }
   ],
   "source": [
    "df = pd.DataFrame() # Make an empty data frame; you can also use a python dict here \n",
    "\n",
    "\n",
    "with h5py.File('../data/archive/vel_err_orb_err_rvcorr_all.h5','r') as f:\n",
    "    print(f.keys()) # Print what columns are in the file\n",
    "    for key in ['Etot', 'JR', 'Jphi', 'Jz', 'KE', 'Lx', 'Ly', 'Lz', 'PE', 'U', 'V', 'W', 'XGC', 'YGC', 'ZGC','ecc','source_id','vphi', 'vr', 'vz','zmax']:\n",
    "        print(key)\n",
    "        print(f[key])\n",
    "        df[key] = np.array(f[key])\n",
    "\n"
   ]
  },
  {
   "cell_type": "code",
   "execution_count": 3,
   "id": "f2c94720",
   "metadata": {},
   "outputs": [],
   "source": [
    "chem = pd.read_csv('../data/archive/spec_logg_mh_alphafe_callibrated.csv')"
   ]
  },
  {
   "cell_type": "code",
   "execution_count": 4,
   "id": "be7c18f8",
   "metadata": {},
   "outputs": [],
   "source": [
    "c_chem_columns = [key for key in chem.columns if 'Unnamed' not in key]\n",
    "c_IoM_kinematics_columns = [key for key in df.columns if 'Unnamed' not in key]\n",
    "chem = chem[c_chem_columns]\n",
    "df = df[c_IoM_kinematics_columns]"
   ]
  },
  {
   "cell_type": "code",
   "execution_count": 5,
   "id": "9eb406c4",
   "metadata": {},
   "outputs": [],
   "source": [
    "merged_data = pd.merge(chem, df, on=\"source_id\", validate=\"one_to_one\")"
   ]
  },
  {
   "cell_type": "code",
   "execution_count": 6,
   "id": "19326211",
   "metadata": {},
   "outputs": [
    {
     "data": {
      "text/plain": [
       "Index(['source_id', 'teff_gspspec', 'teff_gspspec_lower', 'teff_gspspec_upper',\n",
       "       'logg_gspspec', 'logg_gspspec_lower', 'logg_gspspec_upper',\n",
       "       'mh_gspspec', 'mh_gspspec_lower', 'mh_gspspec_upper', 'alphafe_gspspec',\n",
       "       'alphafe_gspspec_lower', 'alphafe_gspspec_upper', 'mgfe_gspspec',\n",
       "       'mgfe_gspspec_lower', 'mgfe_gspspec_upper', 'fem_gspspec',\n",
       "       'fem_gspspec_lower', 'fem_gspspec_upper', 'Etot', 'JR', 'Jphi', 'Jz',\n",
       "       'KE', 'Lx', 'Ly', 'Lz', 'PE', 'U', 'V', 'W', 'XGC', 'YGC', 'ZGC', 'ecc',\n",
       "       'vphi', 'vr', 'vz', 'zmax'],\n",
       "      dtype='object')"
      ]
     },
     "execution_count": 6,
     "metadata": {},
     "output_type": "execute_result"
    }
   ],
   "source": [
    "merged_data.columns"
   ]
  },
  {
   "cell_type": "code",
   "execution_count": 9,
   "id": "961332fc",
   "metadata": {},
   "outputs": [],
   "source": [
    "merged_data = merged_data.iloc[np.random.choice(len(merged_data), 1000)]"
   ]
  },
  {
   "cell_type": "code",
   "execution_count": 14,
   "id": "85851287",
   "metadata": {},
   "outputs": [
    {
     "name": "stderr",
     "output_type": "stream",
     "text": [
      "/tmp/ipykernel_258637/4197555843.py:2: SettingWithCopyWarning: \n",
      "A value is trying to be set on a copy of a slice from a DataFrame.\n",
      "Try using .loc[row_indexer,col_indexer] = value instead\n",
      "\n",
      "See the caveats in the documentation: https://pandas.pydata.org/pandas-docs/stable/user_guide/indexing.html#returning-a-view-versus-a-copy\n",
      "  merged_data['RGC'] = np.linalg.norm([merged_data['XGC'], merged_data['YGC'], merged_data['ZGC']], axis=0)\n"
     ]
    },
    {
     "data": {
      "text/plain": [
       "<AxesSubplot:>"
      ]
     },
     "execution_count": 14,
     "metadata": {},
     "output_type": "execute_result"
    },
    {
     "data": {
      "image/png": "[encoded data removed]",
      "text/plain": [
       "<Figure size 432x288 with 1 Axes>"
      ]
     },
     "metadata": {
      "needs_background": "light"
     },
     "output_type": "display_data"
    }
   ],
   "source": [
    "import seaborn as sns\n",
    "merged_data['RGC'] = np.linalg.norm([merged_data['XGC'], merged_data['YGC'], merged_data['ZGC']], axis=0)\n",
    "sns.kdeplot(x=merged_data['RGC'].to_numpy(), y=merged_data['mh_gspspec'].to_numpy())"
   ]
  },
  {
   "cell_type": "code",
   "execution_count": null,
   "id": "5acaf11a",
   "metadata": {},
   "outputs": [],
   "source": []
  },
  {
   "cell_type": "code",
   "execution_count": 2,
   "id": "89893681",
   "metadata": {},
   "outputs": [],
   "source": [
    "df = pd.read_pickle('DR3_6D_kinematics.pkl')"
   ]
  },
  {
   "cell_type": "code",
   "execution_count": 3,
   "id": "4676b4f4",
   "metadata": {},
   "outputs": [],
   "source": [
    "df.to_csv('DR3_6D_kinematics.csv')"
   ]
  },
  {
   "cell_type": "code",
   "execution_count": null,
   "id": "f17b780c",
   "metadata": {},
   "outputs": [],
   "source": []
  }
 ],
 "metadata": {
  "kernelspec": {
   "display_name": "Python 3 (ipykernel)",
   "language": "python",
   "name": "python3"
  },
  "language_info": {
   "codemirror_mode": {
    "name": "ipython",
    "version": 3
   },
   "file_extension": ".py",
   "mimetype": "text/x-python",
   "name": "python",
   "nbconvert_exporter": "python",
   "pygments_lexer": "ipython3",
   "version": "3.9.12"
  }
 },
 "nbformat": 4,
 "nbformat_minor": 5
}
