{
 "cells": [
  {
   "cell_type": "code",
   "execution_count": 7,
   "id": "77ba6c15",
   "metadata": {},
   "outputs": [],
   "source": [
    "import pandas as pd\n",
    "import numpy as np\n",
    "import os\n",
    "import json"
   ]
  },
  {
   "cell_type": "code",
   "execution_count": 8,
   "id": "8dc3f522",
   "metadata": {},
   "outputs": [],
   "source": [
    "def compute_extra(df):\n",
    "    df['kestar'] = 1/2 * (df['vxstar']**2 + df['vystar']**2 + df['vzstar']**2)\n",
    "    vecr = df[['xstar', 'ystar', 'zstar']].to_numpy()\n",
    "    vecv = df[['vxstar', 'vystar', 'vzstar']].to_numpy()\n",
    "    vecL = np.cross(vecr, vecv)\n",
    "    df['lxstar'] = vecL[:, 0]\n",
    "    df['lystar'] = vecL[:, 1]\n",
    "    df['lzstar'] = vecL[:, 2]\n",
    "    return df"
   ]
  },
  {
   "cell_type": "code",
   "execution_count": 9,
   "id": "8c2c9ef2",
   "metadata": {},
   "outputs": [],
   "source": [
    "root_dir = '../../data/caterpillar/raw'\n",
    "\n",
    "for file in os.listdir(root_dir):\n",
    "    if file.endswith('.h5'):\n",
    "        path = os.path.join(root_dir, file)\n",
    "        df = pd.read_hdf(path, key='star')\n",
    "        df = compute_extra(df)\n",
    "        df.to_hdf(path, key='star')\n",
    "        df_norm = {'mean':{}, 'std':{}}\n",
    "        for column in df.columns:\n",
    "            df_norm['std'][column] = float(np.std(df[column]))\n",
    "            df_norm['mean'][column] = float(np.mean(df[column]))\n",
    "        with open(path.split('.')[0]+'_norm.json', 'w') as f:\n",
    "            json.dump(df_norm, f)\n"
   ]
  },
  {
   "cell_type": "code",
   "execution_count": null,
   "id": "f6d081cf",
   "metadata": {},
   "outputs": [],
   "source": []
  },
  {
   "cell_type": "code",
   "execution_count": null,
   "id": "bcfad838",
   "metadata": {},
   "outputs": [],
   "source": []
  }
 ],
 "metadata": {
  "kernelspec": {
   "display_name": "Python 3 (ipykernel)",
   "language": "python",
   "name": "python3"
  },
  "language_info": {
   "codemirror_mode": {
    "name": "ipython",
    "version": 3
   },
   "file_extension": ".py",
   "mimetype": "text/x-python",
   "name": "python",
   "nbconvert_exporter": "python",
   "pygments_lexer": "ipython3",
   "version": "3.8.10"
  }
 },
 "nbformat": 4,
 "nbformat_minor": 5
}
