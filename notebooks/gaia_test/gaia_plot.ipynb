{
 "cells": [
  {
   "cell_type": "code",
   "execution_count": 22,
   "id": "a34a7504-0009-436f-8a18-af7c804b18d5",
   "metadata": {},
   "outputs": [],
   "source": [
    "import pandas as pd\n",
    "import seaborn as sns\n",
    "import matplotlib.pyplot as plt\n",
    "import numpy as np\n",
    "import os\n",
    "import json"
   ]
  },
  {
   "cell_type": "code",
   "execution_count": 23,
   "id": "06401543-5a79-41f2-a99f-026c192a4b2c",
   "metadata": {},
   "outputs": [],
   "source": [
    "sns.set_palette(sns.color_palette(\"colorblind\"))"
   ]
  },
  {
   "cell_type": "code",
   "execution_count": 24,
   "id": "14e5b60b-067b-4755-b6fa-9ebce0d4956b",
   "metadata": {},
   "outputs": [],
   "source": [
    "data_root = '../../data/gaia/raw/'\n",
    "results_root = '../../results/cluster_files/'"
   ]
  },
  {
   "cell_type": "code",
   "execution_count": 25,
   "id": "ba2dc0c0-5e08-4abf-ad93-c6d825e4b1a3",
   "metadata": {},
   "outputs": [
    {
     "name": "stdout",
     "output_type": "stream",
     "text": [
      "Index(['Etot', 'JR', 'Jphi', 'Jz', 'Lx', 'Ly', 'ecc', 'U', 'V', 'vr', 'W',\n",
      "       'vphi', 'XGC', 'YGC', 'ZGC', 'zmax', 'source_id', 'RGC', 'Vtot',\n",
      "       'PhiGC'],\n",
      "      dtype='object')\n",
      "[ 1650 27642 73310 ...  4380 57920 12766]\n"
     ]
    }
   ],
   "source": [
    "df = pd.read_hdf(os.path.join(data_root, 'common_kinematics_10kpc.h5'), key='star')\n",
    "print(df.keys())\n",
    "\n",
    "np.random.seed(0)\n",
    "keep_idx = np.random.choice(len(df), 3000, replace=False)\n",
    "print(keep_idx)\n",
    "df = df.iloc[keep_idx]"
   ]
  },
  {
   "cell_type": "code",
   "execution_count": 26,
   "id": "cf9bca68-2b28-41f3-87f6-010796b1585b",
   "metadata": {},
   "outputs": [
    {
     "name": "stdout",
     "output_type": "stream",
     "text": [
      "73910\n"
     ]
    }
   ],
   "source": [
    "labels = pd.read_csv(os.path.join(results_root, 'gaia_stitch_snc_mom_random_sparsification.csv'))\n",
    "print(len(labels))"
   ]
  },
  {
   "cell_type": "code",
   "execution_count": 17,
   "id": "c62b4b62-1057-40bb-bc66-d2b3a2d70447",
   "metadata": {},
   "outputs": [],
   "source": [
    "def plot(df, clusters, fig_name, fig_path = '../../', sample_size = None, norm=False):\n",
    "    if sample_size is not None:\n",
    "        sampled_ids = np.random.choice(len(clusters), sample_size, replace=False)\n",
    "        df = df.iloc[sampled_ids]\n",
    "        clusters = clusters[sampled_ids]\n",
    "    clusters = [f'cluster {i}' for i in clusters]\n",
    "    fig, axs = plt.subplots(ncols=3,nrows=3,figsize=(15, 15))\n",
    "    axs = axs.flatten()\n",
    "    sns.scatterplot(data=df, x='Jphi', y='Etot', hue=clusters, style=clusters, s=10, ax=axs[0])\n",
    "    sns.scatterplot(data=df, x='vr', y='vphi', hue=clusters, style=clusters, s=10, ax=axs[1])\n",
    "    sns.scatterplot(data=df, x='vr', y='W', hue=clusters, style=clusters, s=10, ax=axs[2])\n",
    "    J = np.sqrt(df['Jphi']**2 + df['JR']**2 + df['Jz']**2)\n",
    "    sns.scatterplot(x=df['Jphi']/J, y=(df['Jz']-df['JR'])/J, hue=clusters, style=clusters, s=10, ax=axs[3])\n",
    "    sns.scatterplot(data=df, x='JR', y='Jphi', hue=clusters, style=clusters, s=10, ax=axs[4])\n",
    "    sns.scatterplot(data=df, x='JR', y='Jz', hue=clusters, style=clusters, s=10, ax=axs[5])\n",
    "    if norm:\n",
    "        axs[4].set(xlim=(0,2))\n",
    "        axs[5].set(xlim=(0,2))\n",
    "    else:\n",
    "        axs[4].set(xlim=(0, 8000))\n",
    "        axs[5].set(xlim=(0, 8000))\n",
    "    if 'RGC' in df.keys(): # needs to change keys\n",
    "        sns.scatterplot(data=df, x='RGC', y='ZGC', hue=clusters, style=clusters, s=10, ax=axs[6])\n",
    "        #df['PhiGC'] *= np.pi / np.max(df['PhiGC'].to_numpy())\n",
    "        sns.scatterplot(data=df, x='PhiGC', y='RGC', hue=clusters, style=clusters, s=10, ax=axs[7])\n",
    "        L = np.cross(df[['XGC', 'YGC', 'ZGC']].to_numpy(), df[['U', 'V', 'W']].to_numpy())\n",
    "        sns.scatterplot(x=L[:,2], y=L[:,1], hue=clusters, style=clusters, s=10, ax=axs[8])\n",
    "    fig.savefig(os.path.join(fig_path, fig_name))"
   ]
  },
  {
   "cell_type": "code",
   "execution_count": 18,
   "id": "cd454a3e-ae5b-4cca-88b7-8cd5ca2707cb",
   "metadata": {},
   "outputs": [],
   "source": [
    "def normalize(df):\n",
    "    df_ = df.copy(deep=True)\n",
    "    raw_path = os.path.join(data_root, 'common_kinematics_10kpc.h5')\n",
    "    with open(raw_path[:-3]+'_norm.json', 'r') as f:\n",
    "        df_norm = json.load(f)\n",
    "    if 'Etot' in df_.keys():\n",
    "        df_['Etot'] -= df_norm['mean']['Etot']\n",
    "    for feature in df_norm['std'].keys():\n",
    "        df_[feature] /= df_norm['std'][feature]\n",
    "    return df_"
   ]
  },
  {
   "cell_type": "code",
   "execution_count": 19,
   "id": "67b072dd-fb1b-4940-8029-21002f25bf35",
   "metadata": {},
   "outputs": [],
   "source": [
    "df_ = normalize(df)"
   ]
  },
  {
   "cell_type": "code",
   "execution_count": 20,
   "id": "9dcf8822-5e96-41ac-a850-abee9c8b5f99",
   "metadata": {},
   "outputs": [
    {
     "ename": "IndexError",
     "evalue": "positional indexers are out-of-bounds",
     "output_type": "error",
     "traceback": [
      "\u001b[0;31m---------------------------------------------------------------------------\u001b[0m",
      "\u001b[0;31mIndexError\u001b[0m                                Traceback (most recent call last)",
      "File \u001b[0;32m~/venv/generic/lib/python3.9/site-packages/pandas/core/indexing.py:1618\u001b[0m, in \u001b[0;36m_iLocIndexer._get_list_axis\u001b[0;34m(self, key, axis)\u001b[0m\n\u001b[1;32m   1617\u001b[0m \u001b[39mtry\u001b[39;00m:\n\u001b[0;32m-> 1618\u001b[0m     \u001b[39mreturn\u001b[39;00m \u001b[39mself\u001b[39;49m\u001b[39m.\u001b[39;49mobj\u001b[39m.\u001b[39;49m_take_with_is_copy(key, axis\u001b[39m=\u001b[39;49maxis)\n\u001b[1;32m   1619\u001b[0m \u001b[39mexcept\u001b[39;00m \u001b[39mIndexError\u001b[39;00m \u001b[39mas\u001b[39;00m err:\n\u001b[1;32m   1620\u001b[0m     \u001b[39m# re-raise with different error message\u001b[39;00m\n",
      "File \u001b[0;32m~/venv/generic/lib/python3.9/site-packages/pandas/core/generic.py:3948\u001b[0m, in \u001b[0;36mNDFrame._take_with_is_copy\u001b[0;34m(self, indices, axis)\u001b[0m\n\u001b[1;32m   3941\u001b[0m \u001b[39m\u001b[39m\u001b[39m\"\"\"\u001b[39;00m\n\u001b[1;32m   3942\u001b[0m \u001b[39mInternal version of the `take` method that sets the `_is_copy`\u001b[39;00m\n\u001b[1;32m   3943\u001b[0m \u001b[39mattribute to keep track of the parent dataframe (using in indexing\u001b[39;00m\n\u001b[0;32m   (...)\u001b[0m\n\u001b[1;32m   3946\u001b[0m \u001b[39mSee the docstring of `take` for full explanation of the parameters.\u001b[39;00m\n\u001b[1;32m   3947\u001b[0m \u001b[39m\"\"\"\u001b[39;00m\n\u001b[0;32m-> 3948\u001b[0m result \u001b[39m=\u001b[39m \u001b[39mself\u001b[39;49m\u001b[39m.\u001b[39;49m_take(indices\u001b[39m=\u001b[39;49mindices, axis\u001b[39m=\u001b[39;49maxis)\n\u001b[1;32m   3949\u001b[0m \u001b[39m# Maybe set copy if we didn't actually change the index.\u001b[39;00m\n",
      "File \u001b[0;32m~/venv/generic/lib/python3.9/site-packages/pandas/core/generic.py:3932\u001b[0m, in \u001b[0;36mNDFrame._take\u001b[0;34m(self, indices, axis, convert_indices)\u001b[0m\n\u001b[1;32m   3930\u001b[0m         \u001b[39mreturn\u001b[39;00m \u001b[39mself\u001b[39m\u001b[39m.\u001b[39mcopy(deep\u001b[39m=\u001b[39m\u001b[39mNone\u001b[39;00m)\n\u001b[0;32m-> 3932\u001b[0m new_data \u001b[39m=\u001b[39m \u001b[39mself\u001b[39;49m\u001b[39m.\u001b[39;49m_mgr\u001b[39m.\u001b[39;49mtake(\n\u001b[1;32m   3933\u001b[0m     indices,\n\u001b[1;32m   3934\u001b[0m     axis\u001b[39m=\u001b[39;49m\u001b[39mself\u001b[39;49m\u001b[39m.\u001b[39;49m_get_block_manager_axis(axis),\n\u001b[1;32m   3935\u001b[0m     verify\u001b[39m=\u001b[39;49m\u001b[39mTrue\u001b[39;49;00m,\n\u001b[1;32m   3936\u001b[0m     convert_indices\u001b[39m=\u001b[39;49mconvert_indices,\n\u001b[1;32m   3937\u001b[0m )\n\u001b[1;32m   3938\u001b[0m \u001b[39mreturn\u001b[39;00m \u001b[39mself\u001b[39m\u001b[39m.\u001b[39m_constructor(new_data)\u001b[39m.\u001b[39m__finalize__(\u001b[39mself\u001b[39m, method\u001b[39m=\u001b[39m\u001b[39m\"\u001b[39m\u001b[39mtake\u001b[39m\u001b[39m\"\u001b[39m)\n",
      "File \u001b[0;32m~/venv/generic/lib/python3.9/site-packages/pandas/core/internals/managers.py:960\u001b[0m, in \u001b[0;36mBaseBlockManager.take\u001b[0;34m(self, indexer, axis, verify, convert_indices)\u001b[0m\n\u001b[1;32m    959\u001b[0m \u001b[39mif\u001b[39;00m convert_indices:\n\u001b[0;32m--> 960\u001b[0m     indexer \u001b[39m=\u001b[39m maybe_convert_indices(indexer, n, verify\u001b[39m=\u001b[39;49mverify)\n\u001b[1;32m    962\u001b[0m new_labels \u001b[39m=\u001b[39m \u001b[39mself\u001b[39m\u001b[39m.\u001b[39maxes[axis]\u001b[39m.\u001b[39mtake(indexer)\n",
      "File \u001b[0;32m~/venv/generic/lib/python3.9/site-packages/pandas/core/indexers/utils.py:284\u001b[0m, in \u001b[0;36mmaybe_convert_indices\u001b[0;34m(indices, n, verify)\u001b[0m\n\u001b[1;32m    283\u001b[0m     \u001b[39mif\u001b[39;00m mask\u001b[39m.\u001b[39many():\n\u001b[0;32m--> 284\u001b[0m         \u001b[39mraise\u001b[39;00m \u001b[39mIndexError\u001b[39;00m(\u001b[39m\"\u001b[39m\u001b[39mindices are out-of-bounds\u001b[39m\u001b[39m\"\u001b[39m)\n\u001b[1;32m    285\u001b[0m \u001b[39mreturn\u001b[39;00m indices\n",
      "\u001b[0;31mIndexError\u001b[0m: indices are out-of-bounds",
      "\nThe above exception was the direct cause of the following exception:\n",
      "\u001b[0;31mIndexError\u001b[0m                                Traceback (most recent call last)",
      "\u001b[1;32m/Users/yh_huang/ProjectData/StellarCluster/notebooks/gaia_test/gaia_plot.ipynb Cell 9\u001b[0m line \u001b[0;36m1\n\u001b[0;32m----> <a href='vscode-notebook-cell:/Users/yh_huang/ProjectData/StellarCluster/notebooks/gaia_test/gaia_plot.ipynb#X11sZmlsZQ%3D%3D?line=0'>1</a>\u001b[0m plot(df, labels[\u001b[39m'\u001b[39;49m\u001b[39mcluster_id\u001b[39;49m\u001b[39m'\u001b[39;49m]\u001b[39m.\u001b[39;49mto_numpy(), fig_name\u001b[39m=\u001b[39;49m\u001b[39m'\u001b[39;49m\u001b[39mgaia_stitch_snc_mom_plot_3000.png\u001b[39;49m\u001b[39m'\u001b[39;49m, sample_size\u001b[39m=\u001b[39;49m\u001b[39m3000\u001b[39;49m, norm\u001b[39m=\u001b[39;49m\u001b[39mFalse\u001b[39;49;00m)\n",
      "\u001b[1;32m/Users/yh_huang/ProjectData/StellarCluster/notebooks/gaia_test/gaia_plot.ipynb Cell 9\u001b[0m line \u001b[0;36m4\n\u001b[1;32m      <a href='vscode-notebook-cell:/Users/yh_huang/ProjectData/StellarCluster/notebooks/gaia_test/gaia_plot.ipynb#X11sZmlsZQ%3D%3D?line=1'>2</a>\u001b[0m \u001b[39mif\u001b[39;00m sample_size \u001b[39mis\u001b[39;00m \u001b[39mnot\u001b[39;00m \u001b[39mNone\u001b[39;00m:\n\u001b[1;32m      <a href='vscode-notebook-cell:/Users/yh_huang/ProjectData/StellarCluster/notebooks/gaia_test/gaia_plot.ipynb#X11sZmlsZQ%3D%3D?line=2'>3</a>\u001b[0m     sampled_ids \u001b[39m=\u001b[39m np\u001b[39m.\u001b[39mrandom\u001b[39m.\u001b[39mchoice(\u001b[39mlen\u001b[39m(clusters), sample_size, replace\u001b[39m=\u001b[39m\u001b[39mFalse\u001b[39;00m)\n\u001b[0;32m----> <a href='vscode-notebook-cell:/Users/yh_huang/ProjectData/StellarCluster/notebooks/gaia_test/gaia_plot.ipynb#X11sZmlsZQ%3D%3D?line=3'>4</a>\u001b[0m     df \u001b[39m=\u001b[39m df\u001b[39m.\u001b[39;49miloc[sampled_ids]\n\u001b[1;32m      <a href='vscode-notebook-cell:/Users/yh_huang/ProjectData/StellarCluster/notebooks/gaia_test/gaia_plot.ipynb#X11sZmlsZQ%3D%3D?line=4'>5</a>\u001b[0m     clusters \u001b[39m=\u001b[39m clusters[sampled_ids]\n\u001b[1;32m      <a href='vscode-notebook-cell:/Users/yh_huang/ProjectData/StellarCluster/notebooks/gaia_test/gaia_plot.ipynb#X11sZmlsZQ%3D%3D?line=5'>6</a>\u001b[0m clusters \u001b[39m=\u001b[39m [\u001b[39mf\u001b[39m\u001b[39m'\u001b[39m\u001b[39mcluster \u001b[39m\u001b[39m{\u001b[39;00mi\u001b[39m}\u001b[39;00m\u001b[39m'\u001b[39m \u001b[39mfor\u001b[39;00m i \u001b[39min\u001b[39;00m clusters]\n",
      "File \u001b[0;32m~/venv/generic/lib/python3.9/site-packages/pandas/core/indexing.py:1103\u001b[0m, in \u001b[0;36m_LocationIndexer.__getitem__\u001b[0;34m(self, key)\u001b[0m\n\u001b[1;32m   1100\u001b[0m axis \u001b[39m=\u001b[39m \u001b[39mself\u001b[39m\u001b[39m.\u001b[39maxis \u001b[39mor\u001b[39;00m \u001b[39m0\u001b[39m\n\u001b[1;32m   1102\u001b[0m maybe_callable \u001b[39m=\u001b[39m com\u001b[39m.\u001b[39mapply_if_callable(key, \u001b[39mself\u001b[39m\u001b[39m.\u001b[39mobj)\n\u001b[0;32m-> 1103\u001b[0m \u001b[39mreturn\u001b[39;00m \u001b[39mself\u001b[39;49m\u001b[39m.\u001b[39;49m_getitem_axis(maybe_callable, axis\u001b[39m=\u001b[39;49maxis)\n",
      "File \u001b[0;32m~/venv/generic/lib/python3.9/site-packages/pandas/core/indexing.py:1647\u001b[0m, in \u001b[0;36m_iLocIndexer._getitem_axis\u001b[0;34m(self, key, axis)\u001b[0m\n\u001b[1;32m   1645\u001b[0m \u001b[39m# a list of integers\u001b[39;00m\n\u001b[1;32m   1646\u001b[0m \u001b[39melif\u001b[39;00m is_list_like_indexer(key):\n\u001b[0;32m-> 1647\u001b[0m     \u001b[39mreturn\u001b[39;00m \u001b[39mself\u001b[39;49m\u001b[39m.\u001b[39;49m_get_list_axis(key, axis\u001b[39m=\u001b[39;49maxis)\n\u001b[1;32m   1649\u001b[0m \u001b[39m# a single integer\u001b[39;00m\n\u001b[1;32m   1650\u001b[0m \u001b[39melse\u001b[39;00m:\n\u001b[1;32m   1651\u001b[0m     key \u001b[39m=\u001b[39m item_from_zerodim(key)\n",
      "File \u001b[0;32m~/venv/generic/lib/python3.9/site-packages/pandas/core/indexing.py:1621\u001b[0m, in \u001b[0;36m_iLocIndexer._get_list_axis\u001b[0;34m(self, key, axis)\u001b[0m\n\u001b[1;32m   1618\u001b[0m     \u001b[39mreturn\u001b[39;00m \u001b[39mself\u001b[39m\u001b[39m.\u001b[39mobj\u001b[39m.\u001b[39m_take_with_is_copy(key, axis\u001b[39m=\u001b[39maxis)\n\u001b[1;32m   1619\u001b[0m \u001b[39mexcept\u001b[39;00m \u001b[39mIndexError\u001b[39;00m \u001b[39mas\u001b[39;00m err:\n\u001b[1;32m   1620\u001b[0m     \u001b[39m# re-raise with different error message\u001b[39;00m\n\u001b[0;32m-> 1621\u001b[0m     \u001b[39mraise\u001b[39;00m \u001b[39mIndexError\u001b[39;00m(\u001b[39m\"\u001b[39m\u001b[39mpositional indexers are out-of-bounds\u001b[39m\u001b[39m\"\u001b[39m) \u001b[39mfrom\u001b[39;00m \u001b[39merr\u001b[39;00m\n",
      "\u001b[0;31mIndexError\u001b[0m: positional indexers are out-of-bounds"
     ]
    }
   ],
   "source": [
    "plot(df, labels['cluster_id'].to_numpy(), fig_name='gaia_stitch_snc_mom_plot_3000.png', sample_size=3000, norm=False)"
   ]
  },
  {
   "cell_type": "code",
   "execution_count": 39,
   "id": "857ac0a1-8836-4ff3-83d6-6538520476cc",
   "metadata": {},
   "outputs": [],
   "source": []
  },
  {
   "cell_type": "code",
   "execution_count": null,
   "id": "cfad02a7-b41f-4bcf-b6a3-67626220ea55",
   "metadata": {},
   "outputs": [],
   "source": []
  }
 ],
 "metadata": {
  "kernelspec": {
   "display_name": "Python 3 (ipykernel)",
   "language": "python",
   "name": "python3"
  },
  "language_info": {
   "codemirror_mode": {
    "name": "ipython",
    "version": 3
   },
   "file_extension": ".py",
   "mimetype": "text/x-python",
   "name": "python",
   "nbconvert_exporter": "python",
   "pygments_lexer": "ipython3",
   "version": "3.9.6"
  }
 },
 "nbformat": 4,
 "nbformat_minor": 5
}
