{
 "cells": [
  {
   "cell_type": "code",
   "execution_count": 1,
   "id": "0dd93467",
   "metadata": {},
   "outputs": [],
   "source": [
    "import sys\n",
    "sys.path.append('../..')\n",
    "\n",
    "import json\n",
    "import pandas as pd\n",
    "\n",
    "import torch\n",
    "from torch.optim import SGD, Adam\n",
    "from torch_geometric.loader import DataLoader\n",
    "import torch_geometric.transforms as T\n",
    "from torch.utils.tensorboard import SummaryWriter\n",
    "from tools.gaia_dataset import SampleGaiaDataset\n",
    "from tools.gnn_models import GCNEdgeBased\n",
    "from tools.evaluation_metric import *\n",
    "from tools.cluster_functions import *"
   ]
  },
  {
   "cell_type": "code",
   "execution_count": 2,
   "id": "49d9bd61",
   "metadata": {},
   "outputs": [
    {
     "name": "stderr",
     "output_type": "stream",
     "text": [
      "2023-06-08 14:15:28.542332: I tensorflow/core/platform/cpu_feature_guard.cc:193] This TensorFlow binary is optimized with oneAPI Deep Neural Network Library (oneDNN) to use the following CPU instructions in performance-critical operations:  AVX2 FMA\n",
      "To enable them in other operations, rebuild TensorFlow with the appropriate compiler flags.\n",
      "2023-06-08 14:15:30.323096: W tensorflow/compiler/xla/stream_executor/platform/default/dso_loader.cc:64] Could not load dynamic library 'libnvinfer.so.7'; dlerror: libnvinfer.so.7: cannot open shared object file: No such file or directory\n",
      "2023-06-08 14:15:30.323364: W tensorflow/compiler/xla/stream_executor/platform/default/dso_loader.cc:64] Could not load dynamic library 'libnvinfer_plugin.so.7'; dlerror: libnvinfer_plugin.so.7: cannot open shared object file: No such file or directory\n",
      "2023-06-08 14:15:30.323372: W tensorflow/compiler/tf2tensorrt/utils/py_utils.cc:38] TF-TRT Warning: Cannot dlopen some TensorRT libraries. If you would like to use Nvidia GPU with TensorRT, please make sure the missing libraries mentioned above are installed properly.\n"
     ]
    }
   ],
   "source": [
    "writer = SummaryWriter()\n",
    "device = torch.device('cuda') if torch.cuda.is_available() else torch.device('cpu')\n",
    "\n",
    "feature_columns = ['Etot', 'JR', 'Jz', 'Jphi', 'Vtot', 'W', 'vr', 'vphi']\n",
    "position_columns = ['XGC', 'YGC', 'ZGC']"
   ]
  },
  {
   "cell_type": "code",
   "execution_count": 3,
   "id": "d5f84ae8",
   "metadata": {},
   "outputs": [
    {
     "name": "stderr",
     "output_type": "stream",
     "text": [
      "Processing...\n",
      "Done!\n"
     ]
    }
   ],
   "source": [
    "data_transforms = T.Compose(transforms=[T.KNNGraph(k=300, force_undirected=True), T.GDC(sparsification_kwargs={'avg_degree':300, 'method':'threshold'})]) #\n",
    "gaia_dataset = SampleGaiaDataset('../../data/gaia', feature_columns, sample_size=20000, num_samples=2, pre_transform=data_transforms)\n",
    "gaia_loader = DataLoader(gaia_dataset, batch_size=1, shuffle=True)"
   ]
  },
  {
   "cell_type": "code",
   "execution_count": 4,
   "id": "407def30",
   "metadata": {},
   "outputs": [
    {
     "data": {
      "text/plain": [
       "<All keys matched successfully>"
      ]
     },
     "execution_count": 4,
     "metadata": {},
     "output_type": "execute_result"
    }
   ],
   "source": [
    "model = GANOrigEdgeBased(len(feature_columns), regularizer=0).to(device)\n",
    "model.load_state_dict(torch.load('../../train_script/weights/GANOrigEdgeBased_model300new_gaia_mom_vel/250.pth')['model_state_dict'])"
   ]
  },
  {
   "cell_type": "code",
   "execution_count": 5,
   "id": "defdde1d",
   "metadata": {},
   "outputs": [],
   "source": [
    "from scipy.sparse import csr_matrix\n",
    "def evaluate(n_components, graph, model):\n",
    "    graph = graph.to(device)\n",
    "    with torch.no_grad():\n",
    "        model.eval()\n",
    "        edge_pred = model(graph)\n",
    "    adj = csr_matrix((edge_pred.cpu(),graph.edge_index.cpu()), shape=(len(graph.x), len(graph.x)))    \n",
    "    FX = C_Spectral(adj, n_components=n_components)\n",
    "    return FX"
   ]
  },
  {
   "cell_type": "code",
   "execution_count": 6,
   "id": "dc7ea426",
   "metadata": {},
   "outputs": [
    {
     "ename": "OutOfMemoryError",
     "evalue": "CUDA out of memory. Tried to allocate 1.43 GiB (GPU 0; 5.93 GiB total capacity; 2.98 GiB already allocated; 1.20 GiB free; 3.70 GiB reserved in total by PyTorch) If reserved memory is >> allocated memory try setting max_split_size_mb to avoid fragmentation.  See documentation for Memory Management and PYTORCH_CUDA_ALLOC_CONF",
     "output_type": "error",
     "traceback": [
      "\u001b[0;31m---------------------------------------------------------------------------\u001b[0m",
      "\u001b[0;31mOutOfMemoryError\u001b[0m                          Traceback (most recent call last)",
      "Cell \u001b[0;32mIn[6], line 2\u001b[0m\n\u001b[1;32m      1\u001b[0m graph \u001b[38;5;241m=\u001b[39m \u001b[38;5;28mnext\u001b[39m(\u001b[38;5;28miter\u001b[39m(gaia_loader))\n\u001b[0;32m----> 2\u001b[0m FX \u001b[38;5;241m=\u001b[39m \u001b[43mevaluate\u001b[49m\u001b[43m(\u001b[49m\u001b[38;5;241;43m10\u001b[39;49m\u001b[43m,\u001b[49m\u001b[43m \u001b[49m\u001b[43mgraph\u001b[49m\u001b[43m,\u001b[49m\u001b[43m \u001b[49m\u001b[43mmodel\u001b[49m\u001b[43m)\u001b[49m\n\u001b[1;32m      3\u001b[0m clusters \u001b[38;5;241m=\u001b[39m [\u001b[38;5;124mf\u001b[39m\u001b[38;5;124m'\u001b[39m\u001b[38;5;124mcluster \u001b[39m\u001b[38;5;132;01m{\u001b[39;00midx\u001b[38;5;132;01m}\u001b[39;00m\u001b[38;5;124m'\u001b[39m \u001b[38;5;28;01mfor\u001b[39;00m idx \u001b[38;5;129;01min\u001b[39;00m FX]\n",
      "Cell \u001b[0;32mIn[5], line 6\u001b[0m, in \u001b[0;36mevaluate\u001b[0;34m(n_components, graph, model)\u001b[0m\n\u001b[1;32m      4\u001b[0m \u001b[38;5;28;01mwith\u001b[39;00m torch\u001b[38;5;241m.\u001b[39mno_grad():\n\u001b[1;32m      5\u001b[0m     model\u001b[38;5;241m.\u001b[39meval()\n\u001b[0;32m----> 6\u001b[0m     edge_pred \u001b[38;5;241m=\u001b[39m \u001b[43mmodel\u001b[49m\u001b[43m(\u001b[49m\u001b[43mgraph\u001b[49m\u001b[43m)\u001b[49m\n\u001b[1;32m      7\u001b[0m adj \u001b[38;5;241m=\u001b[39m csr_matrix((edge_pred\u001b[38;5;241m.\u001b[39mcpu(),graph\u001b[38;5;241m.\u001b[39medge_index\u001b[38;5;241m.\u001b[39mcpu()), shape\u001b[38;5;241m=\u001b[39m(\u001b[38;5;28mlen\u001b[39m(graph\u001b[38;5;241m.\u001b[39mx), \u001b[38;5;28mlen\u001b[39m(graph\u001b[38;5;241m.\u001b[39mx)))    \n\u001b[1;32m      8\u001b[0m FX \u001b[38;5;241m=\u001b[39m C_Spectral(adj, n_components\u001b[38;5;241m=\u001b[39mn_components)\n",
      "File \u001b[0;32m~/venv/gaia/lib/python3.8/site-packages/torch/nn/modules/module.py:1194\u001b[0m, in \u001b[0;36mModule._call_impl\u001b[0;34m(self, *input, **kwargs)\u001b[0m\n\u001b[1;32m   1190\u001b[0m \u001b[38;5;66;03m# If we don't have any hooks, we want to skip the rest of the logic in\u001b[39;00m\n\u001b[1;32m   1191\u001b[0m \u001b[38;5;66;03m# this function, and just call forward.\u001b[39;00m\n\u001b[1;32m   1192\u001b[0m \u001b[38;5;28;01mif\u001b[39;00m \u001b[38;5;129;01mnot\u001b[39;00m (\u001b[38;5;28mself\u001b[39m\u001b[38;5;241m.\u001b[39m_backward_hooks \u001b[38;5;129;01mor\u001b[39;00m \u001b[38;5;28mself\u001b[39m\u001b[38;5;241m.\u001b[39m_forward_hooks \u001b[38;5;129;01mor\u001b[39;00m \u001b[38;5;28mself\u001b[39m\u001b[38;5;241m.\u001b[39m_forward_pre_hooks \u001b[38;5;129;01mor\u001b[39;00m _global_backward_hooks\n\u001b[1;32m   1193\u001b[0m         \u001b[38;5;129;01mor\u001b[39;00m _global_forward_hooks \u001b[38;5;129;01mor\u001b[39;00m _global_forward_pre_hooks):\n\u001b[0;32m-> 1194\u001b[0m     \u001b[38;5;28;01mreturn\u001b[39;00m \u001b[43mforward_call\u001b[49m\u001b[43m(\u001b[49m\u001b[38;5;241;43m*\u001b[39;49m\u001b[38;5;28;43minput\u001b[39;49m\u001b[43m,\u001b[49m\u001b[43m \u001b[49m\u001b[38;5;241;43m*\u001b[39;49m\u001b[38;5;241;43m*\u001b[39;49m\u001b[43mkwargs\u001b[49m\u001b[43m)\u001b[49m\n\u001b[1;32m   1195\u001b[0m \u001b[38;5;66;03m# Do not call functions when jit is used\u001b[39;00m\n\u001b[1;32m   1196\u001b[0m full_backward_hooks, non_full_backward_hooks \u001b[38;5;241m=\u001b[39m [], []\n",
      "File \u001b[0;32m~/ProjectData/StellarCluster/notebooks/gaia_test/../../tools/gnn_models.py:121\u001b[0m, in \u001b[0;36mGANOrigEdgeBased.forward\u001b[0;34m(self, data)\u001b[0m\n\u001b[1;32m    119\u001b[0m edge_attr \u001b[38;5;241m=\u001b[39m \u001b[38;5;28mself\u001b[39m\u001b[38;5;241m.\u001b[39mconvE1(X, edge_index, edge_attr)\n\u001b[1;32m    120\u001b[0m X \u001b[38;5;241m=\u001b[39m \u001b[38;5;28mself\u001b[39m\u001b[38;5;241m.\u001b[39mattnN2(X, edge_index, edge_attr)\n\u001b[0;32m--> 121\u001b[0m edge_attr \u001b[38;5;241m=\u001b[39m \u001b[38;5;28;43mself\u001b[39;49m\u001b[38;5;241;43m.\u001b[39;49m\u001b[43mconvE2\u001b[49m\u001b[43m(\u001b[49m\u001b[43mX\u001b[49m\u001b[43m,\u001b[49m\u001b[43m \u001b[49m\u001b[43medge_index\u001b[49m\u001b[43m,\u001b[49m\u001b[43m \u001b[49m\u001b[43medge_attr\u001b[49m\u001b[43m)\u001b[49m\n\u001b[1;32m    123\u001b[0m edge_pred \u001b[38;5;241m=\u001b[39m \u001b[38;5;28mself\u001b[39m\u001b[38;5;241m.\u001b[39mclassifier(edge_attr)\n\u001b[1;32m    124\u001b[0m edge_pred \u001b[38;5;241m=\u001b[39m torch\u001b[38;5;241m.\u001b[39msigmoid(edge_pred)[:,\u001b[38;5;241m0\u001b[39m]\n",
      "File \u001b[0;32m~/venv/gaia/lib/python3.8/site-packages/torch/nn/modules/module.py:1194\u001b[0m, in \u001b[0;36mModule._call_impl\u001b[0;34m(self, *input, **kwargs)\u001b[0m\n\u001b[1;32m   1190\u001b[0m \u001b[38;5;66;03m# If we don't have any hooks, we want to skip the rest of the logic in\u001b[39;00m\n\u001b[1;32m   1191\u001b[0m \u001b[38;5;66;03m# this function, and just call forward.\u001b[39;00m\n\u001b[1;32m   1192\u001b[0m \u001b[38;5;28;01mif\u001b[39;00m \u001b[38;5;129;01mnot\u001b[39;00m (\u001b[38;5;28mself\u001b[39m\u001b[38;5;241m.\u001b[39m_backward_hooks \u001b[38;5;129;01mor\u001b[39;00m \u001b[38;5;28mself\u001b[39m\u001b[38;5;241m.\u001b[39m_forward_hooks \u001b[38;5;129;01mor\u001b[39;00m \u001b[38;5;28mself\u001b[39m\u001b[38;5;241m.\u001b[39m_forward_pre_hooks \u001b[38;5;129;01mor\u001b[39;00m _global_backward_hooks\n\u001b[1;32m   1193\u001b[0m         \u001b[38;5;129;01mor\u001b[39;00m _global_forward_hooks \u001b[38;5;129;01mor\u001b[39;00m _global_forward_pre_hooks):\n\u001b[0;32m-> 1194\u001b[0m     \u001b[38;5;28;01mreturn\u001b[39;00m \u001b[43mforward_call\u001b[49m\u001b[43m(\u001b[49m\u001b[38;5;241;43m*\u001b[39;49m\u001b[38;5;28;43minput\u001b[39;49m\u001b[43m,\u001b[49m\u001b[43m \u001b[49m\u001b[38;5;241;43m*\u001b[39;49m\u001b[38;5;241;43m*\u001b[39;49m\u001b[43mkwargs\u001b[49m\u001b[43m)\u001b[49m\n\u001b[1;32m   1195\u001b[0m \u001b[38;5;66;03m# Do not call functions when jit is used\u001b[39;00m\n\u001b[1;32m   1196\u001b[0m full_backward_hooks, non_full_backward_hooks \u001b[38;5;241m=\u001b[39m [], []\n",
      "File \u001b[0;32m~/ProjectData/StellarCluster/notebooks/gaia_test/../../tools/gnn_layers.py:58\u001b[0m, in \u001b[0;36mEdgeConv.forward\u001b[0;34m(self, x, edge_index, edge_attr)\u001b[0m\n\u001b[1;32m     54\u001b[0m edge_attr \u001b[38;5;241m=\u001b[39m \u001b[38;5;28mself\u001b[39m\u001b[38;5;241m.\u001b[39mself_map(edge_attr)\n\u001b[1;32m     56\u001b[0m row, col \u001b[38;5;241m=\u001b[39m edge_index\n\u001b[0;32m---> 58\u001b[0m message_received \u001b[38;5;241m=\u001b[39m \u001b[38;5;28mself\u001b[39m\u001b[38;5;241m.\u001b[39mpass_map(\u001b[43mtorch\u001b[49m\u001b[38;5;241;43m.\u001b[39;49m\u001b[43mconcat\u001b[49m\u001b[43m(\u001b[49m\u001b[43m[\u001b[49m\u001b[43mx\u001b[49m\u001b[43m[\u001b[49m\u001b[43mrow\u001b[49m\u001b[43m]\u001b[49m\u001b[43m,\u001b[49m\u001b[43m \u001b[49m\u001b[43mx\u001b[49m\u001b[43m[\u001b[49m\u001b[43mcol\u001b[49m\u001b[43m]\u001b[49m\u001b[43m]\u001b[49m\u001b[43m,\u001b[49m\u001b[43m \u001b[49m\u001b[43mdim\u001b[49m\u001b[38;5;241;43m=\u001b[39;49m\u001b[38;5;241;43m-\u001b[39;49m\u001b[38;5;241;43m1\u001b[39;49m\u001b[43m)\u001b[49m) \u001b[38;5;66;03m# from the two nodes\u001b[39;00m\n\u001b[1;32m     60\u001b[0m out \u001b[38;5;241m=\u001b[39m \u001b[38;5;28mself\u001b[39m\u001b[38;5;241m.\u001b[39mrelu(edge_attr \u001b[38;5;241m+\u001b[39m message_received)  \u001b[38;5;66;03m# ReLU(EW + [X,X]W)\u001b[39;00m\n\u001b[1;32m     62\u001b[0m \u001b[38;5;28;01mreturn\u001b[39;00m out\n",
      "\u001b[0;31mOutOfMemoryError\u001b[0m: CUDA out of memory. Tried to allocate 1.43 GiB (GPU 0; 5.93 GiB total capacity; 2.98 GiB already allocated; 1.20 GiB free; 3.70 GiB reserved in total by PyTorch) If reserved memory is >> allocated memory try setting max_split_size_mb to avoid fragmentation.  See documentation for Memory Management and PYTORCH_CUDA_ALLOC_CONF"
     ]
    }
   ],
   "source": [
    "graph = next(iter(gaia_loader))\n",
    "FX = evaluate(10, graph, model)\n",
    "clusters = [f'cluster {idx}' for idx in FX]"
   ]
  },
  {
   "cell_type": "code",
   "execution_count": null,
   "id": "9225245c",
   "metadata": {},
   "outputs": [],
   "source": [
    "import seaborn as sns\n",
    "import matplotlib.pyplot as plt\n",
    "sns.set_palette(sns.color_palette(\"colorblind\"))"
   ]
  },
  {
   "cell_type": "code",
   "execution_count": null,
   "id": "b6c108df",
   "metadata": {},
   "outputs": [],
   "source": [
    "local_graph = graph.to('cpu')\n",
    "X = gaia_dataset.de_normalize(local_graph.x)"
   ]
  },
  {
   "cell_type": "code",
   "execution_count": null,
   "id": "7536e617",
   "metadata": {},
   "outputs": [],
   "source": [
    "from collections import Counter\n",
    "counts = Counter(clusters).most_common()\n",
    "top2 = [key for (key, c) in counts[:]]\n",
    "print(top2)"
   ]
  },
  {
   "cell_type": "code",
   "execution_count": null,
   "id": "7248a121",
   "metadata": {},
   "outputs": [],
   "source": [
    "X = X[np.isin(clusters, top2)]\n",
    "clusters = [cluster for cluster in clusters if cluster in top2]"
   ]
  },
  {
   "cell_type": "code",
   "execution_count": null,
   "id": "9cb0588e",
   "metadata": {},
   "outputs": [],
   "source": [
    "df_x = pd.DataFrame(X, columns = feature_columns)"
   ]
  },
  {
   "cell_type": "code",
   "execution_count": null,
   "id": "0c546a4d",
   "metadata": {},
   "outputs": [],
   "source": [
    "sns.scatterplot(x=X[:,3], y=X[:,0], s=10)"
   ]
  },
  {
   "cell_type": "code",
   "execution_count": null,
   "id": "eb3377a2",
   "metadata": {},
   "outputs": [],
   "source": [
    "fig, axs = plt.subplots(ncols=3,nrows=2,figsize=(15, 10))\n",
    "axs = axs.flatten()\n",
    "sns.scatterplot(data=df_x, x='Jphi', y='Etot', hue=clusters, style=clusters, s=10, ax=axs[0])\n",
    "sns.scatterplot(data=df_x, x='vr', y='vphi', hue=clusters, style=clusters, s=10, ax=axs[1])\n",
    "sns.scatterplot(data=df_x, x='vr', y='W', hue=clusters, style=clusters, s=10, ax=axs[2])\n",
    "J = np.sqrt(X[:,3]**2 + X[:,2]**2 + X[:,1]**2)\n",
    "sns.scatterplot(x=X[:,3]/J, y=(X[:,2]-X[:,1])/J, hue=clusters, style=clusters, s=10, ax=axs[3])\n",
    "sns.scatterplot(data=df_x, x='JR', y='Jphi', hue=clusters, style=clusters, s=10, ax=axs[4])\n",
    "sns.scatterplot(data=df_x, x='JR', y='Jz', hue=clusters, style=clusters, s=10, ax=axs[5])"
   ]
  },
  {
   "cell_type": "code",
   "execution_count": null,
   "id": "0e8360c2",
   "metadata": {},
   "outputs": [],
   "source": [
    "sns.scatterplot(x=X[:,9], y=X[:,10], hue=clusters, style=clusters, s=10)"
   ]
  },
  {
   "cell_type": "code",
   "execution_count": null,
   "id": "20a02457",
   "metadata": {},
   "outputs": [],
   "source": [
    "J = np.sqrt(X[:,3]**2 + X[:,2]**2 + X[:,1]**2)\n",
    "ax = sns.scatterplot(x=X[:,3]/J, y=(X[:,2]-X[:,1])/J, hue=clusters, style=clusters, s=10)"
   ]
  },
  {
   "cell_type": "code",
   "execution_count": null,
   "id": "1fddcb56",
   "metadata": {},
   "outputs": [],
   "source": [
    "ax = sns.scatterplot(x=X[:,1], y=X[:,2], hue=clusters, style=clusters, s=10)\n",
    "ax.set(xlim=[0,20000])"
   ]
  },
  {
   "cell_type": "code",
   "execution_count": null,
   "id": "72ad00f6",
   "metadata": {},
   "outputs": [],
   "source": [
    "ax = sns.scatterplot(x=X[:,4], y=X[:,12], hue=clusters, style=clusters, s=10)"
   ]
  },
  {
   "cell_type": "code",
   "execution_count": null,
   "id": "114c0339",
   "metadata": {},
   "outputs": [],
   "source": [
    "POS = [X[:,4]*torch.cos(X[:,11]),X[:,4]*torch.sin(X[:,11]),X[:,12]]\n",
    "ax = sns.scatterplot(x=POS[0], y=POS[1], hue=clusters, style=clusters, s=10)"
   ]
  },
  {
   "cell_type": "code",
   "execution_count": null,
   "id": "3c4fb55a",
   "metadata": {},
   "outputs": [],
   "source": [
    "ax = sns.scatterplot(x=X[:,11], y=X[:,4], hue=clusters, style=clusters, s=10)"
   ]
  },
  {
   "cell_type": "code",
   "execution_count": null,
   "id": "56b9d0fa",
   "metadata": {},
   "outputs": [],
   "source": []
  },
  {
   "cell_type": "code",
   "execution_count": null,
   "id": "5b8bbe29",
   "metadata": {},
   "outputs": [],
   "source": []
  },
  {
   "cell_type": "code",
   "execution_count": null,
   "id": "f207c368",
   "metadata": {},
   "outputs": [],
   "source": []
  }
 ],
 "metadata": {
  "kernelspec": {
   "display_name": "Python 3 (ipykernel)",
   "language": "python",
   "name": "python3"
  },
  "language_info": {
   "codemirror_mode": {
    "name": "ipython",
    "version": 3
   },
   "file_extension": ".py",
   "mimetype": "text/x-python",
   "name": "python",
   "nbconvert_exporter": "python",
   "pygments_lexer": "ipython3",
   "version": "3.8.10"
  }
 },
 "nbformat": 4,
 "nbformat_minor": 5
}
