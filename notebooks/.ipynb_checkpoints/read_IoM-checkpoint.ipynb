{
 "cells": [
  {
   "cell_type": "code",
   "execution_count": 1,
   "id": "9c091f71",
   "metadata": {},
   "outputs": [],
   "source": [
    "import h5py"
   ]
  },
  {
   "cell_type": "code",
   "execution_count": null,
   "id": "77c249b6",
   "metadata": {},
   "outputs": [],
   "source": [
    "df = pd.DataFrame() # Make an empty data frame; you can also use a python dict here \n",
    "\n",
    "needed_keys = ['Etot', 'JR', 'Jphi', 'Jz', 'KE', 'Lx', 'Ly', 'Lz', 'PE', 'ecc', 'peri', 'zmax', 'source_id']\n",
    "with h5py.File('./vel_err_orb_err_rvcorr_all.h5','r') as f:\n",
    "    print(f.keys()) # Print what columns are in the file\n",
    "    for key in needed_keys:\n",
    "        print(key)\n",
    "        print(f[key])\n",
    "        df[key] = np.array(f[key])\n",
    "df = df.loc[np.isfinite(df['Etot'])]\n",
    "df.to_csv('common_kinematics_trimmed.csv')"
   ]
  }
 ],
 "metadata": {
  "kernelspec": {
   "display_name": "Python 3 (ipykernel)",
   "language": "python",
   "name": "python3"
  },
  "language_info": {
   "codemirror_mode": {
    "name": "ipython",
    "version": 3
   },
   "file_extension": ".py",
   "mimetype": "text/x-python",
   "name": "python",
   "nbconvert_exporter": "python",
   "pygments_lexer": "ipython3",
   "version": "3.9.12"
  }
 },
 "nbformat": 4,
 "nbformat_minor": 5
}
