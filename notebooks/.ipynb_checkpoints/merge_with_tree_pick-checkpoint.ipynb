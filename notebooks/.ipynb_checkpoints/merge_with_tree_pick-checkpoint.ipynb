{
 "cells": [
  {
   "cell_type": "code",
   "execution_count": 24,
   "id": "b4169d36",
   "metadata": {},
   "outputs": [],
   "source": [
    "import pandas as pd\n",
    "import numpy as np\n",
    "import matplotlib.pyplot as plt\n",
    "import seaborn as sns\n",
    "import deepdish as dd"
   ]
  },
  {
   "cell_type": "code",
   "execution_count": 3,
   "id": "3076012c",
   "metadata": {},
   "outputs": [],
   "source": [
    "file=dd.io.load('../data/m12i_tree_pick_infall_recov.h5')"
   ]
  },
  {
   "cell_type": "code",
   "execution_count": 4,
   "id": "3587b7d5",
   "metadata": {},
   "outputs": [
    {
     "data": {
      "text/plain": [
       "dict_keys(['dwarf_gal', 'first_infall_snap', 'first_infall_snap_index', 'index_at_sample', 'last_infall_snap', 'last_infall_snap_index', 'pm', 'present_stellar_mass', 'st', 'st_recov', 'stream'])"
      ]
     },
     "execution_count": 4,
     "metadata": {},
     "output_type": "execute_result"
    }
   ],
   "source": [
    "file.keys()"
   ]
  },
  {
   "cell_type": "code",
   "execution_count": 13,
   "id": "f86e9725",
   "metadata": {},
   "outputs": [
    {
     "data": {
      "text/plain": [
       "1120"
      ]
     },
     "execution_count": 13,
     "metadata": {},
     "output_type": "execute_result"
    }
   ],
   "source": [
    "len(file['st_recov'][0])"
   ]
  },
  {
   "cell_type": "code",
   "execution_count": 14,
   "id": "1477b11d",
   "metadata": {},
   "outputs": [],
   "source": [
    "df=pd.read_hdf('../data/m12i_cluster_data_v2.h5', key='star')"
   ]
  },
  {
   "cell_type": "code",
   "execution_count": 20,
   "id": "4f7f37ca",
   "metadata": {},
   "outputs": [
    {
     "name": "stdout",
     "output_type": "stream",
     "text": [
      "58\n"
     ]
    }
   ],
   "source": [
    "IO, x_ind, y_ind = np.intersect1d(file['st_recov'][0], df['id_stars'], return_indices=True)\n",
    "print(len(df.iloc[y_ind]['cluster_id']))"
   ]
  },
  {
   "cell_type": "code",
   "execution_count": 22,
   "id": "7f31a4b8",
   "metadata": {},
   "outputs": [
    {
     "data": {
      "text/plain": [
       "59"
      ]
     },
     "execution_count": 22,
     "metadata": {},
     "output_type": "execute_result"
    }
   ],
   "source": [
    "len(df[df['cluster_id'] == 122])"
   ]
  },
  {
   "cell_type": "code",
   "execution_count": null,
   "id": "133a4e69",
   "metadata": {},
   "outputs": [],
   "source": []
  }
 ],
 "metadata": {
  "kernelspec": {
   "display_name": "Python 3 (ipykernel)",
   "language": "python",
   "name": "python3"
  },
  "language_info": {
   "codemirror_mode": {
    "name": "ipython",
    "version": 3
   },
   "file_extension": ".py",
   "mimetype": "text/x-python",
   "name": "python",
   "nbconvert_exporter": "python",
   "pygments_lexer": "ipython3",
   "version": "3.9.12"
  }
 },
 "nbformat": 4,
 "nbformat_minor": 5
}
